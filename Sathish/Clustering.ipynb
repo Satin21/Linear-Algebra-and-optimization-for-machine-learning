{
 "cells": [
  {
   "cell_type": "code",
   "execution_count": 11,
   "source": [
    "import sklearn\n",
    "import numpy as np\n",
    "from sklearn.datasets import fetch_openml\n",
    "import matplotlib.pyplot as plt"
   ],
   "outputs": [],
   "metadata": {}
  },
  {
   "cell_type": "code",
   "execution_count": 5,
   "source": [
    "X, y = fetch_openml('mnist_784', version=1, return_X_y=True, cache = False)"
   ],
   "outputs": [],
   "metadata": {}
  },
  {
   "cell_type": "code",
   "execution_count": null,
   "source": [],
   "outputs": [],
   "metadata": {}
  }
 ],
 "metadata": {
  "orig_nbformat": 4,
  "language_info": {
   "name": "python",
   "version": "3.6.8",
   "mimetype": "text/x-python",
   "codemirror_mode": {
    "name": "ipython",
    "version": 3
   },
   "pygments_lexer": "ipython3",
   "nbconvert_exporter": "python",
   "file_extension": ".py"
  },
  "kernelspec": {
   "name": "python3",
   "display_name": "Python 3.6.8 64-bit ('base': conda)"
  },
  "interpreter": {
   "hash": "c9590d7032ea884dfefbafe07253313ce5154fbe651f8bce5ea637ccc15b006b"
  }
 },
 "nbformat": 4,
 "nbformat_minor": 2
}