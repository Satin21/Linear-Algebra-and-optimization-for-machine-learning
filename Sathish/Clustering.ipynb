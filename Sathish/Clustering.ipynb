{
 "cells": [
  {
   "cell_type": "code",
   "execution_count": 1,
   "source": [
    "import sklearn\n",
    "import numpy as np\n",
    "from sklearn.datasets import fetch_openml\n",
    "import matplotlib.pyplot as plt\n",
    "from clustering import K_means_clustering\n",
    "import random\n",
    "from itertools import combinations"
   ],
   "outputs": [],
   "metadata": {}
  },
  {
   "cell_type": "code",
   "execution_count": 2,
   "source": [
    "X, y = fetch_openml('mnist_784', version=1, return_X_y=True, cache = False)"
   ],
   "outputs": [],
   "metadata": {}
  },
  {
   "cell_type": "code",
   "execution_count": 9,
   "source": [
    "def equilidean_distance(X, val):\n",
    "    return list(map(lambda x: np.sum((np.abs(X - x))**2), val))"
   ],
   "outputs": [],
   "metadata": {}
  },
  {
   "cell_type": "code",
   "execution_count": 3,
   "source": [
    "from itertools import product, permutations, combinations\n",
    "import random"
   ],
   "outputs": [],
   "metadata": {}
  },
  {
   "cell_type": "markdown",
   "source": [
    "### Cluster initialization"
   ],
   "metadata": {}
  },
  {
   "cell_type": "markdown",
   "source": [
    "The accuracy of K-means clustering depends on a better cluster initialization. \n",
    "If the centroids of the initialized clusters are very different from each other, then we can expect the clustering algorithm to better perform.\n",
    "Hence, we find 10 samples from the entire dataset randomly and calculate the equilidean distance between them. We repeat this many times and choose the set with maximum equilidean distance. The chosen set should have the distinct centroids."
   ],
   "metadata": {}
  },
  {
   "cell_type": "code",
   "execution_count": 146,
   "source": [
    "%%time\n",
    "\n",
    "centroids, minimum_distance = K_means_clustering(X, y, len(X), max_iter = 50, tolerance = 1e-6)"
   ],
   "outputs": [
    {
     "output_type": "stream",
     "name": "stdout",
     "text": [
      "CPU times: user 2min 13s, sys: 1min 13s, total: 3min 27s\n",
      "Wall time: 3min 44s\n"
     ]
    }
   ],
   "metadata": {}
  },
  {
   "cell_type": "code",
   "execution_count": 147,
   "source": [
    "fig, ax = plt.subplots(1, 10)\n",
    "for i in range(10):\n",
    "    ax[i].imshow(centroids[i].reshape(28, -1))"
   ],
   "outputs": [
    {
     "output_type": "display_data",
     "data": {
      "text/plain": [
       "<Figure size 432x288 with 10 Axes>"
      ],
      "image/svg+xml": "<?xml version=\"1.0\" encoding=\"utf-8\" standalone=\"no\"?>\n<!DOCTYPE svg PUBLIC \"-//W3C//DTD SVG 1.1//EN\"\n  \"http://www.w3.org/Graphics/SVG/1.1/DTD/svg11.dtd\">\n<!-- Created with matplotlib (https://matplotlib.org/) -->\n<svg height=\"62.951006pt\" version=\"1.1\" viewBox=\"0 0 372.754207 62.951006\" width=\"372.754207pt\" xmlns=\"http://www.w3.org/2000/svg\" xmlns:xlink=\"http://www.w3.org/1999/xlink\">\n <defs>\n  <style type=\"text/css\">\n*{stroke-linecap:butt;stroke-linejoin:round;}\n  </style>\n </defs>\n <g id=\"figure_1\">\n  <g id=\"patch_1\">\n   <path d=\"M -0 62.951006 \nL 372.754207 62.951006 \nL 372.754207 0 \nL -0 0 \nz\n\" style=\"fill:none;\"/>\n  </g>\n  <g id=\"axes_1\">\n   <g id=\"patch_2\">\n    <path d=\"M 26.925 39.072881 \nL 55.297881 39.072881 \nL 55.297881 10.7 \nL 26.925 10.7 \nz\n\" style=\"fill:#ffffff;\"/>\n   </g>\n   <g clip-path=\"url(#p921e838c88)\">\n    <image height=\"29\" id=\"image1ccde01861\" transform=\"scale(1 -1)translate(0 -29)\" width=\"29\" x=\"26.925\" xlink:href=\"data:image/png;base64,\niVBORw0KGgoAAAANSUhEUgAAAB0AAAAdCAYAAABWk2cPAAAABHNCSVQICAgIfAhkiAAABJhJREFUSInllttuHEUQhr/qw8zs2c4GxwkhJgEpHASRIh6BR+CBeB7egTcAIS64QSAlCJOYxFnbe5jZme4uLmbWsbHjJAKJC+pmtaOe+qf++uvvki/lK+VtQgTEINaee6wxgibQ16dzbwVoLKbIMeMROh52GSyEiJRrtCzRskLrpv2IFP8BqAhiLeIcZjwi3n6Hxd4AgPXEIBGKo0jvSYl7PkePT9DlilRzKfDrQTs6EQPWgvc045yTvZbexV4CoHfgGA8GDDNLBpAUUUWbi8BXg4qc/x8jWteYmIh5+8jvrsjzhrkf4ZaO/Njjjgpkvmz7HiOazqcxr610E5pQVSgr3FGFq8BV4H3k/e0Zdqsm9iB5abMaeWWqNwcFSIqGgDlakM+UfKbUteV2/4jJaEXMQa8AuxpUBIw9HQ2xFqxFrAERdFXRO4z0DiNN6bnml+xNZoSeogZIZ/Kc/e3i0p6egjiHZBnYVkQi0iZwDr8I7dmVp29qPpv8wQ+Tu0RvXsvfRVBjkSxDBgNkNCANC+IgJ+UWNYKoIklpht2rQRjZigf5Ad9cf0gzGKKZwxiDmk7xSUHjq0HFWmQwQG9MqW4NWe04yqkh9EFdS50JwIaxrYob/oiH2XPu7/zJL9MRYZhhixyp1tA0YOScgs+DiiDeIaMB1a0hsw8z5ncV3S3JioAxCVWhiQZNLeqd6TG77pibbsgX24/5aXqPeuLIigwyD3UNIbRt6Szyb6AGcY7ULyinjuV7Sn7vhJ3xgrLxLKqclATvI962dI3ziip5oOG6mxNGkaZvzlMsBriCXrxDc0voCc0ksjtcEZPh4OkW2b7HVkLIoBy1fP182/Pd9j0+yr6nUQeuU7AqmhKkdOEieLs5/ZfiXKViupEQab/WgBFltuqR7XumPynFi4ZkhWraeu9sOeTba/d50H/MPBZgtRVZou1ljGjSV4CKtPKWtngTAAVrEpmLrBWyeST/Y4E0geyovWVC3ufR3Sk/7uyxShliE8l1VpgUjR29Z+IlvRv3cW0FEkFqg5PEu6Nj1ruBxa4jbPfQwmNCwoSEL5W08Py+3uYkFCCQHKi1ralcRa+YrlJrQQTbKK4Ulk3Gx1tPKT/w/LK6TcoK+n9mSPfx1ZYBF1iEjJAs2hhQwHb5LvHii+pVReqAXybyQ8eT5xPmWwWfb+9Tf2p51N9h9dRhqzZZPVby8Zoqep6VQ8zcYetNIS17KuacI9l78snX3ZHWl40g1mHEITiCZvxqxjTOUrgARWI5EOqR0lyL6Fag169ZNDlPDrboPfaM9iPZYYUsK7Su20v8zMi8rDRFUg2GFQL4EBnXAb8cMH9e8PjmHertiOYdr50j6dqwOBmzqoT+M8Pot0R+2CBl3c7pVT09BV4nJCakbjBlxXC2pLc/IExyQt8Seobku5Ha6CGBrRW3avDHNe7FElmW6Hr9cmQurfRMTzU0UCa0rpHFEjM7JnOObCOKeIYuESTPwbt27OoGrRtS1VKrTbgwMpfvSNpuCJudiLK69NhppRvlnzKmV+7BVy9mmxf08v319NjGfd4w/hPv/f+A/gXOVisqARJeEAAAAABJRU5ErkJggg==\" y=\"-10.072881\"/>\n   </g>\n   <g id=\"matplotlib.axis_1\">\n    <g id=\"xtick_1\">\n     <g id=\"line2d_1\">\n      <defs>\n       <path d=\"M 0 0 \nL 0 3.5 \n\" id=\"m2166f6c3c1\" style=\"stroke:#000000;stroke-width:0.8;\"/>\n      </defs>\n      <g>\n       <use style=\"stroke:#000000;stroke-width:0.8;\" x=\"27.431659\" xlink:href=\"#m2166f6c3c1\" y=\"39.072881\"/>\n      </g>\n     </g>\n     <g id=\"text_1\">\n      <!-- 0 -->\n      <defs>\n       <path d=\"M 31.78125 66.40625 \nQ 24.171875 66.40625 20.328125 58.90625 \nQ 16.5 51.421875 16.5 36.375 \nQ 16.5 21.390625 20.328125 13.890625 \nQ 24.171875 6.390625 31.78125 6.390625 \nQ 39.453125 6.390625 43.28125 13.890625 \nQ 47.125 21.390625 47.125 36.375 \nQ 47.125 51.421875 43.28125 58.90625 \nQ 39.453125 66.40625 31.78125 66.40625 \nz\nM 31.78125 74.21875 \nQ 44.046875 74.21875 50.515625 64.515625 \nQ 56.984375 54.828125 56.984375 36.375 \nQ 56.984375 17.96875 50.515625 8.265625 \nQ 44.046875 -1.421875 31.78125 -1.421875 \nQ 19.53125 -1.421875 13.0625 8.265625 \nQ 6.59375 17.96875 6.59375 36.375 \nQ 6.59375 54.828125 13.0625 64.515625 \nQ 19.53125 74.21875 31.78125 74.21875 \nz\n\" id=\"DejaVuSans-48\"/>\n      </defs>\n      <g transform=\"translate(24.250409 53.671319)scale(0.1 -0.1)\">\n       <use xlink:href=\"#DejaVuSans-48\"/>\n      </g>\n     </g>\n    </g>\n    <g id=\"xtick_2\">\n     <g id=\"line2d_2\">\n      <g>\n       <use style=\"stroke:#000000;stroke-width:0.8;\" x=\"52.764588\" xlink:href=\"#m2166f6c3c1\" y=\"39.072881\"/>\n      </g>\n     </g>\n     <g id=\"text_2\">\n      <!-- 25 -->\n      <defs>\n       <path d=\"M 19.1875 8.296875 \nL 53.609375 8.296875 \nL 53.609375 0 \nL 7.328125 0 \nL 7.328125 8.296875 \nQ 12.9375 14.109375 22.625 23.890625 \nQ 32.328125 33.6875 34.8125 36.53125 \nQ 39.546875 41.84375 41.421875 45.53125 \nQ 43.3125 49.21875 43.3125 52.78125 \nQ 43.3125 58.59375 39.234375 62.25 \nQ 35.15625 65.921875 28.609375 65.921875 \nQ 23.96875 65.921875 18.8125 64.3125 \nQ 13.671875 62.703125 7.8125 59.421875 \nL 7.8125 69.390625 \nQ 13.765625 71.78125 18.9375 73 \nQ 24.125 74.21875 28.421875 74.21875 \nQ 39.75 74.21875 46.484375 68.546875 \nQ 53.21875 62.890625 53.21875 53.421875 \nQ 53.21875 48.921875 51.53125 44.890625 \nQ 49.859375 40.875 45.40625 35.40625 \nQ 44.1875 33.984375 37.640625 27.21875 \nQ 31.109375 20.453125 19.1875 8.296875 \nz\n\" id=\"DejaVuSans-50\"/>\n       <path d=\"M 10.796875 72.90625 \nL 49.515625 72.90625 \nL 49.515625 64.59375 \nL 19.828125 64.59375 \nL 19.828125 46.734375 \nQ 21.96875 47.46875 24.109375 47.828125 \nQ 26.265625 48.1875 28.421875 48.1875 \nQ 40.625 48.1875 47.75 41.5 \nQ 54.890625 34.8125 54.890625 23.390625 \nQ 54.890625 11.625 47.5625 5.09375 \nQ 40.234375 -1.421875 26.90625 -1.421875 \nQ 22.3125 -1.421875 17.546875 -0.640625 \nQ 12.796875 0.140625 7.71875 1.703125 \nL 7.71875 11.625 \nQ 12.109375 9.234375 16.796875 8.0625 \nQ 21.484375 6.890625 26.703125 6.890625 \nQ 35.15625 6.890625 40.078125 11.328125 \nQ 45.015625 15.765625 45.015625 23.390625 \nQ 45.015625 31 40.078125 35.4375 \nQ 35.15625 39.890625 26.703125 39.890625 \nQ 22.75 39.890625 18.8125 39.015625 \nQ 14.890625 38.140625 10.796875 36.28125 \nz\n\" id=\"DejaVuSans-53\"/>\n      </defs>\n      <g transform=\"translate(46.402088 53.671319)scale(0.1 -0.1)\">\n       <use xlink:href=\"#DejaVuSans-50\"/>\n       <use x=\"63.623047\" xlink:href=\"#DejaVuSans-53\"/>\n      </g>\n     </g>\n    </g>\n   </g>\n   <g id=\"matplotlib.axis_2\">\n    <g id=\"ytick_1\">\n     <g id=\"line2d_3\">\n      <defs>\n       <path d=\"M 0 0 \nL -3.5 0 \n\" id=\"m5190bdc867\" style=\"stroke:#000000;stroke-width:0.8;\"/>\n      </defs>\n      <g>\n       <use style=\"stroke:#000000;stroke-width:0.8;\" x=\"26.925\" xlink:href=\"#m5190bdc867\" y=\"11.206659\"/>\n      </g>\n     </g>\n     <g id=\"text_3\">\n      <!-- 0 -->\n      <g transform=\"translate(13.5625 15.005877)scale(0.1 -0.1)\">\n       <use xlink:href=\"#DejaVuSans-48\"/>\n      </g>\n     </g>\n    </g>\n    <g id=\"ytick_2\">\n     <g id=\"line2d_4\">\n      <g>\n       <use style=\"stroke:#000000;stroke-width:0.8;\" x=\"26.925\" xlink:href=\"#m5190bdc867\" y=\"36.539588\"/>\n      </g>\n     </g>\n     <g id=\"text_4\">\n      <!-- 25 -->\n      <g transform=\"translate(7.2 40.338807)scale(0.1 -0.1)\">\n       <use xlink:href=\"#DejaVuSans-50\"/>\n       <use x=\"63.623047\" xlink:href=\"#DejaVuSans-53\"/>\n      </g>\n     </g>\n    </g>\n   </g>\n   <g id=\"patch_3\">\n    <path d=\"M 26.925 39.072881 \nL 26.925 10.7 \n\" style=\"fill:none;stroke:#000000;stroke-linecap:square;stroke-linejoin:miter;stroke-width:0.8;\"/>\n   </g>\n   <g id=\"patch_4\">\n    <path d=\"M 55.297881 39.072881 \nL 55.297881 10.7 \n\" style=\"fill:none;stroke:#000000;stroke-linecap:square;stroke-linejoin:miter;stroke-width:0.8;\"/>\n   </g>\n   <g id=\"patch_5\">\n    <path d=\"M 26.925 39.072881 \nL 55.297881 39.072881 \n\" style=\"fill:none;stroke:#000000;stroke-linecap:square;stroke-linejoin:miter;stroke-width:0.8;\"/>\n   </g>\n   <g id=\"patch_6\">\n    <path d=\"M 26.925 10.7 \nL 55.297881 10.7 \n\" style=\"fill:none;stroke:#000000;stroke-linecap:square;stroke-linejoin:miter;stroke-width:0.8;\"/>\n   </g>\n  </g>\n  <g id=\"axes_2\">\n   <g id=\"patch_7\">\n    <path d=\"M 60.972458 39.072881 \nL 89.345339 39.072881 \nL 89.345339 10.7 \nL 60.972458 10.7 \nz\n\" style=\"fill:#ffffff;\"/>\n   </g>\n   <g clip-path=\"url(#p8a9ca8df7d)\">\n    <image height=\"29\" id=\"imagea5f3aa91cd\" transform=\"scale(1 -1)translate(0 -29)\" width=\"29\" x=\"60.972458\" xlink:href=\"data:image/png;base64,\niVBORw0KGgoAAAANSUhEUgAAAB0AAAAdCAYAAABWk2cPAAAABHNCSVQICAgIfAhkiAAABUpJREFUSInNlk1vXFcZx3/n5Z77Mq+2Z8YmtpykSgKlUmmzQZUixAJVbCpUiU/Bp2DNJ2DZJUIIFnwB6IYFIERaUdq0TtIU6thjz3je7p17zwuLa6cdj9MIFi1ncxfnzPmd53n+z38e8SPx08DXvOTXDQTQX7krRP1RCsT5+6RYPeMDBE84/xJenLh1qBAIpRBxjMgy6DRxvRZFLyHvKcq2wBlQZX3cnAWyY0vy+QJ1PCZMpvjFguDccx+wChUCYQwyy2CrS7m3wfhWzNkdaL98wtvX7/Nm6z2uqSVDFwHwh8W3+e1nr/PgH9tsvN9m48Mc83iIPx3h8wK8W4Oql8R3f/6MqTUyTREbHardTca3E8YvB3qvDHl7/z4/bH7AjipoSMGu1vSV4F465a3eXxnsH/HnwYBT0yEKDUwpkZUlVHYt4i8iFaKuW6QJaYxtaFwigMDJuMlv7Gv8yt8lX8R4J4jTCoA7/WN+3H+f15JP+dmtd/ml+AFD10NWm2RlhbQWn+cr4NX0SvFMPGrpSEYKH0mqUcbSZ5gzGAw90czhozq9T3Ze4hev3ODV7z3ircHfeWPnIb+/2WF2GBEftZGTGaIsCdZeAQ2hVqK1iEVBNIpoANFc44xAOjBjixnOkaMZVHWkzVaDxtMe79mbZN8vuZGdEHcKlt0Wrm1QsYHZameuRBqcI5QVzOZI5zF5iZ4m+FgTBKi8QuQloSwhL+ofFQWNA0PzxiYH39likEzR2hMUeCVBqTUhraY3+PpC76GyUFVI76Gd4o2uU28iRBJzUSEhJT6OakgQzG1MVSmSCmTpwK2r9xI01P11cWFUb/skomrVF8sqQS1SpPUAuFQz2zXM9zzX0gVnVUI5M7QnATWvCMty5c516AXYB4SUCGNw3QazvYT5tyRVE4IEaQ2iZuIMLPuOjRsj2qbgybRL9DQiO3bI6YKwXNZO9ZVQQEiBMBGh1SDfTpnclMxvl/R3zhg0ZmjhseELcSSqwkjH54s2h4+32HoI6WEO40ndp5fW/4nhC1ErLjKELKZsScpuoLc94c3df/JG8wF9NcWfR3rkWnxQ7PLH4W0efdqn/aGmc7BEHY7ws/mVHnx1epVCmAgf1XJXheB03OAv2T4+CF7NntDXEwA8klPb4NHJJulDQ/uxIz6cEabT2hAu1fNKqFCqjlQrvJYID2YMPEg5+Gyfjxp7/HrrLnu9MQCDbMrZMqWYGxoF6LmDZUlw67CroeepFSYixAYfK7wGaSE5gWgGuhBUWcrRtQyAx/sVcbcAAbYJVVORmgihNUFI4EV9KiRCa0SS4FoJZVez7ErKNggHKodo5onHAV2cO02IyAPIhqXseIoNSaOdoE8NIs8JTkJ4QZ+KSIOJcE1D0VXkA1juVKAD+bam6GuiCXhTn7etgEgdSVqyaGrKdoTNInSaIBY5wnnCpYliXUi+3gxS4GKoOp6d/VNe7/0LIy3/zjscLVpYX6v3erpgO5kyKlPul7u4OMJmipDGtWWWJQT1nH8ZeOa9Ii/Q4yXJyGDGkskiYdtM+En7b1zXdaqqc/ed+sCDaovfnd7FVoqkBBECQUqk1gSlwK4axJr3+rKCyRQlBG3vUcsW42mHd47v8e6tW9zrf8Kd5JAq1DX9uNjmT8ObHHyyTeujiM5DR3JUIOc5oarAuXpo+3IJr5x7vzScyVaT0G5ie02WmzHLjsSmggsXVEtIzhzxsCQ6XSAmc8K89txQ2doc/IsM/zziYC3BWvx8Dk+PEB9LEiC9NII+iyL4ujn+pxH0OY+4kP0VBvNfr2/E8L8R6H8ABAR7mOlhpi4AAAAASUVORK5CYII=\" y=\"-10.072881\"/>\n   </g>\n   <g id=\"matplotlib.axis_3\">\n    <g id=\"xtick_3\">\n     <g id=\"line2d_5\">\n      <g>\n       <use style=\"stroke:#000000;stroke-width:0.8;\" x=\"61.479116\" xlink:href=\"#m2166f6c3c1\" y=\"39.072881\"/>\n      </g>\n     </g>\n     <g id=\"text_5\">\n      <!-- 0 -->\n      <g transform=\"translate(58.297866 53.671319)scale(0.1 -0.1)\">\n       <use xlink:href=\"#DejaVuSans-48\"/>\n      </g>\n     </g>\n    </g>\n    <g id=\"xtick_4\">\n     <g id=\"line2d_6\">\n      <g>\n       <use style=\"stroke:#000000;stroke-width:0.8;\" x=\"86.812046\" xlink:href=\"#m2166f6c3c1\" y=\"39.072881\"/>\n      </g>\n     </g>\n     <g id=\"text_6\">\n      <!-- 25 -->\n      <g transform=\"translate(80.449546 53.671319)scale(0.1 -0.1)\">\n       <use xlink:href=\"#DejaVuSans-50\"/>\n       <use x=\"63.623047\" xlink:href=\"#DejaVuSans-53\"/>\n      </g>\n     </g>\n    </g>\n   </g>\n   <g id=\"matplotlib.axis_4\">\n    <g id=\"ytick_3\">\n     <g id=\"line2d_7\">\n      <g>\n       <use style=\"stroke:#000000;stroke-width:0.8;\" x=\"60.972458\" xlink:href=\"#m5190bdc867\" y=\"11.206659\"/>\n      </g>\n     </g>\n     <g id=\"text_7\">\n      <!-- 0 -->\n      <g transform=\"translate(47.609958 15.005877)scale(0.1 -0.1)\">\n       <use xlink:href=\"#DejaVuSans-48\"/>\n      </g>\n     </g>\n    </g>\n    <g id=\"ytick_4\">\n     <g id=\"line2d_8\">\n      <g>\n       <use style=\"stroke:#000000;stroke-width:0.8;\" x=\"60.972458\" xlink:href=\"#m5190bdc867\" y=\"36.539588\"/>\n      </g>\n     </g>\n     <g id=\"text_8\">\n      <!-- 25 -->\n      <g transform=\"translate(41.247458 40.338807)scale(0.1 -0.1)\">\n       <use xlink:href=\"#DejaVuSans-50\"/>\n       <use x=\"63.623047\" xlink:href=\"#DejaVuSans-53\"/>\n      </g>\n     </g>\n    </g>\n   </g>\n   <g id=\"patch_8\">\n    <path d=\"M 60.972458 39.072881 \nL 60.972458 10.7 \n\" style=\"fill:none;stroke:#000000;stroke-linecap:square;stroke-linejoin:miter;stroke-width:0.8;\"/>\n   </g>\n   <g id=\"patch_9\">\n    <path d=\"M 89.345339 39.072881 \nL 89.345339 10.7 \n\" style=\"fill:none;stroke:#000000;stroke-linecap:square;stroke-linejoin:miter;stroke-width:0.8;\"/>\n   </g>\n   <g id=\"patch_10\">\n    <path d=\"M 60.972458 39.072881 \nL 89.345339 39.072881 \n\" style=\"fill:none;stroke:#000000;stroke-linecap:square;stroke-linejoin:miter;stroke-width:0.8;\"/>\n   </g>\n   <g id=\"patch_11\">\n    <path d=\"M 60.972458 10.7 \nL 89.345339 10.7 \n\" style=\"fill:none;stroke:#000000;stroke-linecap:square;stroke-linejoin:miter;stroke-width:0.8;\"/>\n   </g>\n  </g>\n  <g id=\"axes_3\">\n   <g id=\"patch_12\">\n    <path d=\"M 95.019915 39.072881 \nL 123.392797 39.072881 \nL 123.392797 10.7 \nL 95.019915 10.7 \nz\n\" style=\"fill:#ffffff;\"/>\n   </g>\n   <g clip-path=\"url(#p0a7b614d20)\">\n    <image height=\"29\" id=\"image1fa4a5b68d\" transform=\"scale(1 -1)translate(0 -29)\" width=\"29\" x=\"95.019915\" xlink:href=\"data:image/png;base64,\niVBORw0KGgoAAAANSUhEUgAAAB0AAAAdCAYAAABWk2cPAAAABHNCSVQICAgIfAhkiAAABPdJREFUSInNlktvHMcRx3/d0/PY2RfJJU1SlCXLSAA/AwhWAhgwfIkP+QD+FD7mkqs/jWEDueUUJMjRl8CBEz/kZ2RbJEVyl7vc3ZnZeXWXD7OWQEm7VoLAcQGDaQx6+l//6qp/lXpDvSn8xKZ/asD/G6j5r/9U6sFa/rMbejLQJYDyPPC8+28AnAMRxFqwFnEC4tY6sh5UKZTnocIQvb1FvbtBvtui6Guc1zhiciGa1IRnGfp8hsznuEWOVPVK8NWgSqHDEL09YPHcHqe/DrE357xx45/c7HyLXabDv5Knef/eM8w+32Lzdp+NLxYEd89x4wskL5C6egRYPbZkfgDc2Sb91T5Hrxteff0T/rD/Z14MWlhxJFIAkDnLsQ34W/o87955hfQf2+x8aOl+NoaTES7LkLK8BPxYpsrzUJ021bVtRi/7PHPrLr/f+ws3jMcHRcnfFze4U+zc3381mPBCdMRbv0h5p/Ub7oYHiLdFTyn06Qg3k0uMHx/eJWi2F5Jeq3lt+2t85fjrYsCfxje5Pdnl7KIDQDUPUYHl+pVzfrf3Kb996nPee67NZLaJn/SJ8xJVVkhqQSywok6VUkgYUHY1ulfRNxkfFVf44+gWHw4PmOUhtvawtYcZG1qfRRx9cIV3vr7FSdnj+uaExb4l3TXYzTYqipqMXxfehq3GeaC1kNmQr+wuHw/3mU5j2t2cna05ACMFpUR4JcyGHW539/C1RSJH1fWwcYAXBihPI9UaUBFBWYeuwZYeiQ2xaJIshGFIYjWDgxEAL1095nijx8UsJjKOojZk4oNtSko8dVlI1jFVVY2fOUgNp0WP/WgKQDjWyCzkWzUA4JdXz3hxcEKxYcitIbc+h9M+XqIxmaALC3WNWHf/7J+R9jqBsiKYO/yJ4Ztki/1oSr+Tk9kOnUPBn0cAfDk74PBKn51uiqcdk6zFfNghPtdEE4uZ5cs6dT8CKg6pKvxZSTTyOZ70mW1EHHSnfNIfsPmlo33SHBKfeqT7fY4HPWwk6FLRHiu63zlaJzlqmuDyotHktaAAdY2XlkTnMfOzmG+eGrATJti9krwf0D5cABAOLZ3DkKprqGINSgjmNeEwxwxnSJIgZfUETAGsRWUFrXFNdM/n3/sDens5u7sXTK7t0j0KAWjdmRCOEwLjQeAjSqGqGpUukDRrxN/aH5dBAKlqdF7iTytaZ4bxSZujbp+dOOX0esH0XgBAcBFjjsaQZCAOBWAdriyRugZrL7GEFdkrTpreWJaYeUE8crSODUejDYraMNieM3+W5rke4/qNJFJWSLZYinz1oL8+ZKuZiqDKCpUVhJOK+EQz2WpxHPXYjBdMDnIAppMWQdIlLisYjqEswS2b+gpbmb04QeoaneWYi4J4aCgPDfOog+wpWnHT2pKnfS4SH11s0KqX08Mif3DOY8x7Vr3w9iNflQJZqpdWKM+glQHl4TyPzBjEd1irwRdqbVDOw7cBpnBQVWDrB8nzUBNfwVQA10hXWaGTDBP4xIHGmQAlhkUeA+DajbjnA49sFmCSHl5e4KqquU/3aJjXzkhiLZQlstCoqUcAdGvBFAHBtMnBsueDAn8G2i7D85DAPznoD2yrGkeOsg5VlARJhj+K6MRNybjAgAJdOXRaoGYpkmZNlFbc6fppUATEIkVTPqQZnF/eoqCRTcDed3a9PfmwvXTgf2HfA5W0n3kPiBSGAAAAAElFTkSuQmCC\" y=\"-10.072881\"/>\n   </g>\n   <g id=\"matplotlib.axis_5\">\n    <g id=\"xtick_5\">\n     <g id=\"line2d_9\">\n      <g>\n       <use style=\"stroke:#000000;stroke-width:0.8;\" x=\"95.526574\" xlink:href=\"#m2166f6c3c1\" y=\"39.072881\"/>\n      </g>\n     </g>\n     <g id=\"text_9\">\n      <!-- 0 -->\n      <g transform=\"translate(92.345324 53.671319)scale(0.1 -0.1)\">\n       <use xlink:href=\"#DejaVuSans-48\"/>\n      </g>\n     </g>\n    </g>\n    <g id=\"xtick_6\">\n     <g id=\"line2d_10\">\n      <g>\n       <use style=\"stroke:#000000;stroke-width:0.8;\" x=\"120.859504\" xlink:href=\"#m2166f6c3c1\" y=\"39.072881\"/>\n      </g>\n     </g>\n     <g id=\"text_10\">\n      <!-- 25 -->\n      <g transform=\"translate(114.497004 53.671319)scale(0.1 -0.1)\">\n       <use xlink:href=\"#DejaVuSans-50\"/>\n       <use x=\"63.623047\" xlink:href=\"#DejaVuSans-53\"/>\n      </g>\n     </g>\n    </g>\n   </g>\n   <g id=\"matplotlib.axis_6\">\n    <g id=\"ytick_5\">\n     <g id=\"line2d_11\">\n      <g>\n       <use style=\"stroke:#000000;stroke-width:0.8;\" x=\"95.019915\" xlink:href=\"#m5190bdc867\" y=\"11.206659\"/>\n      </g>\n     </g>\n     <g id=\"text_11\">\n      <!-- 0 -->\n      <g transform=\"translate(81.657415 15.005877)scale(0.1 -0.1)\">\n       <use xlink:href=\"#DejaVuSans-48\"/>\n      </g>\n     </g>\n    </g>\n    <g id=\"ytick_6\">\n     <g id=\"line2d_12\">\n      <g>\n       <use style=\"stroke:#000000;stroke-width:0.8;\" x=\"95.019915\" xlink:href=\"#m5190bdc867\" y=\"36.539588\"/>\n      </g>\n     </g>\n     <g id=\"text_12\">\n      <!-- 25 -->\n      <g transform=\"translate(75.294915 40.338807)scale(0.1 -0.1)\">\n       <use xlink:href=\"#DejaVuSans-50\"/>\n       <use x=\"63.623047\" xlink:href=\"#DejaVuSans-53\"/>\n      </g>\n     </g>\n    </g>\n   </g>\n   <g id=\"patch_13\">\n    <path d=\"M 95.019915 39.072881 \nL 95.019915 10.7 \n\" style=\"fill:none;stroke:#000000;stroke-linecap:square;stroke-linejoin:miter;stroke-width:0.8;\"/>\n   </g>\n   <g id=\"patch_14\">\n    <path d=\"M 123.392797 39.072881 \nL 123.392797 10.7 \n\" style=\"fill:none;stroke:#000000;stroke-linecap:square;stroke-linejoin:miter;stroke-width:0.8;\"/>\n   </g>\n   <g id=\"patch_15\">\n    <path d=\"M 95.019915 39.072881 \nL 123.392797 39.072881 \n\" style=\"fill:none;stroke:#000000;stroke-linecap:square;stroke-linejoin:miter;stroke-width:0.8;\"/>\n   </g>\n   <g id=\"patch_16\">\n    <path d=\"M 95.019915 10.7 \nL 123.392797 10.7 \n\" style=\"fill:none;stroke:#000000;stroke-linecap:square;stroke-linejoin:miter;stroke-width:0.8;\"/>\n   </g>\n  </g>\n  <g id=\"axes_4\">\n   <g id=\"patch_17\">\n    <path d=\"M 129.067373 39.072881 \nL 157.440254 39.072881 \nL 157.440254 10.7 \nL 129.067373 10.7 \nz\n\" style=\"fill:#ffffff;\"/>\n   </g>\n   <g clip-path=\"url(#p9d18b029c4)\">\n    <image height=\"29\" id=\"image42a9630142\" transform=\"scale(1 -1)translate(0 -29)\" width=\"29\" x=\"129.067373\" xlink:href=\"data:image/png;base64,\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\" y=\"-10.072881\"/>\n   </g>\n   <g id=\"matplotlib.axis_7\">\n    <g id=\"xtick_7\">\n     <g id=\"line2d_13\">\n      <g>\n       <use style=\"stroke:#000000;stroke-width:0.8;\" x=\"129.574031\" xlink:href=\"#m2166f6c3c1\" y=\"39.072881\"/>\n      </g>\n     </g>\n     <g id=\"text_13\">\n      <!-- 0 -->\n      <g transform=\"translate(126.392781 53.671319)scale(0.1 -0.1)\">\n       <use xlink:href=\"#DejaVuSans-48\"/>\n      </g>\n     </g>\n    </g>\n    <g id=\"xtick_8\">\n     <g id=\"line2d_14\">\n      <g>\n       <use style=\"stroke:#000000;stroke-width:0.8;\" x=\"154.906961\" xlink:href=\"#m2166f6c3c1\" y=\"39.072881\"/>\n      </g>\n     </g>\n     <g id=\"text_14\">\n      <!-- 25 -->\n      <g transform=\"translate(148.544461 53.671319)scale(0.1 -0.1)\">\n       <use xlink:href=\"#DejaVuSans-50\"/>\n       <use x=\"63.623047\" xlink:href=\"#DejaVuSans-53\"/>\n      </g>\n     </g>\n    </g>\n   </g>\n   <g id=\"matplotlib.axis_8\">\n    <g id=\"ytick_7\">\n     <g id=\"line2d_15\">\n      <g>\n       <use style=\"stroke:#000000;stroke-width:0.8;\" x=\"129.067373\" xlink:href=\"#m5190bdc867\" y=\"11.206659\"/>\n      </g>\n     </g>\n     <g id=\"text_15\">\n      <!-- 0 -->\n      <g transform=\"translate(115.704873 15.005877)scale(0.1 -0.1)\">\n       <use xlink:href=\"#DejaVuSans-48\"/>\n      </g>\n     </g>\n    </g>\n    <g id=\"ytick_8\">\n     <g id=\"line2d_16\">\n      <g>\n       <use style=\"stroke:#000000;stroke-width:0.8;\" x=\"129.067373\" xlink:href=\"#m5190bdc867\" y=\"36.539588\"/>\n      </g>\n     </g>\n     <g id=\"text_16\">\n      <!-- 25 -->\n      <g transform=\"translate(109.342373 40.338807)scale(0.1 -0.1)\">\n       <use xlink:href=\"#DejaVuSans-50\"/>\n       <use x=\"63.623047\" xlink:href=\"#DejaVuSans-53\"/>\n      </g>\n     </g>\n    </g>\n   </g>\n   <g id=\"patch_18\">\n    <path d=\"M 129.067373 39.072881 \nL 129.067373 10.7 \n\" style=\"fill:none;stroke:#000000;stroke-linecap:square;stroke-linejoin:miter;stroke-width:0.8;\"/>\n   </g>\n   <g id=\"patch_19\">\n    <path d=\"M 157.440254 39.072881 \nL 157.440254 10.7 \n\" style=\"fill:none;stroke:#000000;stroke-linecap:square;stroke-linejoin:miter;stroke-width:0.8;\"/>\n   </g>\n   <g id=\"patch_20\">\n    <path d=\"M 129.067373 39.072881 \nL 157.440254 39.072881 \n\" style=\"fill:none;stroke:#000000;stroke-linecap:square;stroke-linejoin:miter;stroke-width:0.8;\"/>\n   </g>\n   <g id=\"patch_21\">\n    <path d=\"M 129.067373 10.7 \nL 157.440254 10.7 \n\" style=\"fill:none;stroke:#000000;stroke-linecap:square;stroke-linejoin:miter;stroke-width:0.8;\"/>\n   </g>\n  </g>\n  <g id=\"axes_5\">\n   <g id=\"patch_22\">\n    <path d=\"M 163.114831 39.072881 \nL 191.487712 39.072881 \nL 191.487712 10.7 \nL 163.114831 10.7 \nz\n\" style=\"fill:#ffffff;\"/>\n   </g>\n   <g clip-path=\"url(#p250875be10)\">\n    <image height=\"29\" id=\"image70dfd6272f\" transform=\"scale(1 -1)translate(0 -29)\" width=\"29\" x=\"163.114831\" xlink:href=\"data:image/png;base64,\niVBORw0KGgoAAAANSUhEUgAAAB0AAAAdCAYAAABWk2cPAAAABHNCSVQICAgIfAhkiAAABUZJREFUSInNlkmTHFcRx39vqa2rqjfNTEsjYQ225ZAc4QNw4cIFzAcggi/KF/Ad7AjpQAQYS4wsRpqtu6eX6q7tLRx65FEzLTBBhE2eXlS9yl9lvsx/PvG5+L3nBzb5QwN/NKje+VQIEBIhBQDeefBu887vOA0h3lm/E4d3O/dvQ4VAhCEyzxDdHDvMMFkIAmTjUKsGuVjDusTXzeYba0EK0BqhNSgFzuGdg7rGlRW+abbgW1ARhqj9PZqjfWaPEhYfQXOvRSUGWyvUuEdy3ic9c8QTC0BQGPAeryU2VngFwniCwqBnJWpe4K5muPX6O/ANVAhkEmPvDph9kjD5mePTz17xu9FTHkdvmNiMp+sj/jg94m9vRnAaARBeBagGvAKnAQGqhmgakJ6FJKcaZS2+afFtsyO9QUjbjaj2BMlhwa/uPOe36XM+0BmtX/Lz6E98nv+ZZ6OHfPXREQB/vTpgsY6xViKlx7SKsgipLzVOK6TpkBQ1YrHEmxa8v11Iwnu8AO8FU5PyrD7gH6YABIqEvqz5dedrfhG/BODF4IDn1YiTasCk7nC66nLpc+xSYToS05H4SCOCG9TNyntoG3TREs4jrsYdng0eUDtNpmpi2ZKpiqNwzKPgkge6BGCoXpHKmtppXq97TOYp7jImnkjCuUeVDmH9VlVvReqrGjVZkr9OqO5ovkkOqK3mMJ3TD0tG4YJKB7ReEgr39isCYZiZDt9OB7iTDvlrSefcEU8t0aRCrCucMbuhrmkR8wXJSUo/zZm7mG9XB4zvptzvzaELPb1mqAoCsQAgFpaATSXXVUg8lmQnls5pjV5UyKLCF+utttk+U+9wxQp1NqELBEXK6kJRjno8P8h5sb/P0+F9HnY/5El2BsBPowti2TIMVgShQTgICkcwXSPmBb6u8WW16eddkeI9vjW4xRLlPWlRkpwmtL2YeqgphzHLYcJXe/t8OXoIwMeHl/xy75ieXnO3v+BNL8NrAa3Br0t80+CN2ajatf2faK93mz9bl9C2yNmSWCviJCbPYswgodwPWT5IAPhmdh/zRPKbg6/5uDvm5f4B1UDTicKNdlsL72r3TuhbtrUIAGnxLVCWiLkinMQE45yg6G42ioDj3h4nvQsO4xn5QUG5P8D2YoJxgL/29V7tfWviWvjRGqRACIH3HqzFVxVi6ojVZrJk3T7rexEvfzJkNFxwL19yfKdP0w8I4ui77P379AJIiYhC6CT4OMRJCRJEaxFVA8Yi6k3fhQtLOAs4LzIW3Zg0qDGpp8kVnSgEebtsbkOF3IynJMYOM9puhI0lLhQIC3ptUdVN+ZvOxmndBszaDsYr0B4bSNDqOtLtmbo7vUriwwCTh6xHAdVA0ubgJchWoyvg2k+bQ3nfcq9T0nrJoo4RrUC8bRHnbvl/byHhPS6QtKmgHEE9MgS9Gqkctbu5KSRxy6f9GUfplNpp5mWMXgl07aA1O13vhPrWIOsGtTbINgDhUXnL48NznnTPeBBeMdQFAH21IsDyxgz44uoxs2lKdyyIpmajufb7ROrdZuAWK4LLiDTVmE7APIs4yXt8mI05DK54FF4AG+192fb5S3nIlycPiY8j8leW6LzAF8WmXf4z1ONNiytWSCBxDl31CJcRy/Ed/vBBjy/uPmI/WwEghedimbF83SV7oej/3ZAeL+FiiluV4G5DxXsv20IglEJEESJLIU9xvQ4mjzCpwkY3raBKRzhv0FdrxGyJK1b4ssSb/+JMbyI2m/SUFWIyBSHRgJZie6/zeGux77lyfn/oO3C8/VdR+Z/sR5ky/wTBopjHNa65DgAAAABJRU5ErkJggg==\" y=\"-10.072881\"/>\n   </g>\n   <g id=\"matplotlib.axis_9\">\n    <g id=\"xtick_9\">\n     <g id=\"line2d_17\">\n      <g>\n       <use style=\"stroke:#000000;stroke-width:0.8;\" x=\"163.621489\" xlink:href=\"#m2166f6c3c1\" y=\"39.072881\"/>\n      </g>\n     </g>\n     <g id=\"text_17\">\n      <!-- 0 -->\n      <g transform=\"translate(160.440239 53.671319)scale(0.1 -0.1)\">\n       <use xlink:href=\"#DejaVuSans-48\"/>\n      </g>\n     </g>\n    </g>\n    <g id=\"xtick_10\">\n     <g id=\"line2d_18\">\n      <g>\n       <use style=\"stroke:#000000;stroke-width:0.8;\" x=\"188.954419\" xlink:href=\"#m2166f6c3c1\" y=\"39.072881\"/>\n      </g>\n     </g>\n     <g id=\"text_18\">\n      <!-- 25 -->\n      <g transform=\"translate(182.591919 53.671319)scale(0.1 -0.1)\">\n       <use xlink:href=\"#DejaVuSans-50\"/>\n       <use x=\"63.623047\" xlink:href=\"#DejaVuSans-53\"/>\n      </g>\n     </g>\n    </g>\n   </g>\n   <g id=\"matplotlib.axis_10\">\n    <g id=\"ytick_9\">\n     <g id=\"line2d_19\">\n      <g>\n       <use style=\"stroke:#000000;stroke-width:0.8;\" x=\"163.114831\" xlink:href=\"#m5190bdc867\" y=\"11.206659\"/>\n      </g>\n     </g>\n     <g id=\"text_19\">\n      <!-- 0 -->\n      <g transform=\"translate(149.752331 15.005877)scale(0.1 -0.1)\">\n       <use xlink:href=\"#DejaVuSans-48\"/>\n      </g>\n     </g>\n    </g>\n    <g id=\"ytick_10\">\n     <g id=\"line2d_20\">\n      <g>\n       <use style=\"stroke:#000000;stroke-width:0.8;\" x=\"163.114831\" xlink:href=\"#m5190bdc867\" y=\"36.539588\"/>\n      </g>\n     </g>\n     <g id=\"text_20\">\n      <!-- 25 -->\n      <g transform=\"translate(143.389831 40.338807)scale(0.1 -0.1)\">\n       <use xlink:href=\"#DejaVuSans-50\"/>\n       <use x=\"63.623047\" xlink:href=\"#DejaVuSans-53\"/>\n      </g>\n     </g>\n    </g>\n   </g>\n   <g id=\"patch_23\">\n    <path d=\"M 163.114831 39.072881 \nL 163.114831 10.7 \n\" style=\"fill:none;stroke:#000000;stroke-linecap:square;stroke-linejoin:miter;stroke-width:0.8;\"/>\n   </g>\n   <g id=\"patch_24\">\n    <path d=\"M 191.487712 39.072881 \nL 191.487712 10.7 \n\" style=\"fill:none;stroke:#000000;stroke-linecap:square;stroke-linejoin:miter;stroke-width:0.8;\"/>\n   </g>\n   <g id=\"patch_25\">\n    <path d=\"M 163.114831 39.072881 \nL 191.487712 39.072881 \n\" style=\"fill:none;stroke:#000000;stroke-linecap:square;stroke-linejoin:miter;stroke-width:0.8;\"/>\n   </g>\n   <g id=\"patch_26\">\n    <path d=\"M 163.114831 10.7 \nL 191.487712 10.7 \n\" style=\"fill:none;stroke:#000000;stroke-linecap:square;stroke-linejoin:miter;stroke-width:0.8;\"/>\n   </g>\n  </g>\n  <g id=\"axes_6\">\n   <g id=\"patch_27\">\n    <path d=\"M 197.162288 39.072881 \nL 225.535169 39.072881 \nL 225.535169 10.7 \nL 197.162288 10.7 \nz\n\" style=\"fill:#ffffff;\"/>\n   </g>\n   <g clip-path=\"url(#p3537263396)\">\n    <image height=\"29\" id=\"image84443fb2b3\" transform=\"scale(1 -1)translate(0 -29)\" width=\"29\" x=\"197.162288\" xlink:href=\"data:image/png;base64,\niVBORw0KGgoAAAANSUhEUgAAAB0AAAAdCAYAAABWk2cPAAAABHNCSVQICAgIfAhkiAAABOFJREFUSInllklvHEUUx39V1Xv3LLbHSxI7TkxQEgclSgAJiQMSIJAQEhfOnDnxGfgS3Llw48CJfAGERIhYAgohC0piB9uxZzwznume3qo49DirnZgLIPH60FK36v2q3vKvJ94WHxr+YZP/NBDA2vePEAilEJYFtl291XiPpYayBMBkGaYoMGUJ5mBBexoqFcK2kPU6zEwSH6vTXbIZLhiKVo6wNPRtghUFQPNmSe3WDmq9je720FkOuvwbUCEqYC1Cz8/QXa7RPiuYPbfOx0e/44Podw5ZEavFgC965wH4/Npr9L5vMv1TgH/Dg/tbmDR95smfgEqEZSF8n3zCI2lJiumMmWCHWLt8OzpMKFOmVcb7tSsAtF7a4TP3De6LKeayKdxRit4uMdoAek+w9ThTgJQgBcIYZAkiUVzfmuFOb4JuL0QPbKx6xquLdwB4feImb81f58tTF+ivu7Q2aohhjCgKzD5RfjqnWkOaYXVTvLZDsqUYuj5D4eOtOIQrBvC5dPokAJ0LAa9M3mVurstgdhYdeUil9qbtBTXaQFFg4gTV6ROuuaRNl7xmoZsFhV+Fyt/WFHcrxzfmZjgU9AnsnG4A2lFIKQ4OxWhMXqC1QQKOY1OLWqRNi7gO+vCIvvHI1xRFOF5SCtppyDBzECVVDrUZ5/RAUAOmxBiNTkB2ugSrHtFkg9G0Rbg0xD4zpLcQPqiPqeaQYe7Q6YX4A5Bp8aCHDwZ9BG6KHJOMkNs7BBsBbsfBOqF5d/4aLXtArB0AeoXPle0jFB0Pr22QSY7Z3dGBWuZJ0xpKjSwMsqg+vRze5k1/HVtU6nQ1V9xL3uFWLHEGGrIcqDrB6L3d7q+9QoJtY3yXPFIUgaHupQDkGOT4WVApy7U1ynpB7gtwHYRjg1Ig967i/5bgCykQjo2OfEYTiqxhsFXJj/EiV5IFcl2d4qjbJpAZRxbbbJ2cxe03CLMcqQ06jjE5T2nx3lAhQCmE41BGDmlDYOoZcW5zceU0nbUGcjgO3XTK6fl1jtU7bJ/x2UwbYFqEQiA32RO8D1QilALHpvSrnrT9HG0EnfUGjV9sorXKyajp8dvyIlMn2yxMdLlx2qGT+ch8At8Y5KZG6wRjHurws6tXCLQSaAt8L2fKj9lwGwht43aqcvY3NLLwaIspyhOCZmPI9lEHp2djDes4owxRakg0pigOAC1KVKaROViq5GRtA+94zg87LyDzqk/DjRKVGty2pDcTMj3ZR05mJDM+o00XqxshkgSTZZVoGLOfOGhMWWLSDLtXCX+3FzKxGPPe4Z/5pv4nX82fBWB1tYFMoKzntBpDZoMBceoQRx5ZJNGBjWXbCCHYlYr9FSkvMHGM2urTuO0xavlcbC1z/sRtPpm8zEfNSwBcPdPidjZNbhS2KFnLmmzEEbEEI8FYctyzD7tTLYnlT/cNr9aQFziJxhu6dJImX4sXSSPNCXeDHMk5J+WC2+W4s0ZsJJd3jvPryhH8Oza1eyXu/QQxiDFJUk0TgHjuCLo7M0UhzEwRLzXpnLIZLFUOgkMDmkFCViranQi16lH/A2p3c7x7A+R2H93fqaDjQno+dNeEACGRjo0IA0QQVJmIfIxTZUlkBSIeYYYxJs2qSTEvwDw+tjy7eh+18bWnRyWMRtDuHHjpk/avaO//B/oXWoJRfZWtLC4AAAAASUVORK5CYII=\" y=\"-10.072881\"/>\n   </g>\n   <g id=\"matplotlib.axis_11\">\n    <g id=\"xtick_11\">\n     <g id=\"line2d_21\">\n      <g>\n       <use style=\"stroke:#000000;stroke-width:0.8;\" x=\"197.668947\" xlink:href=\"#m2166f6c3c1\" y=\"39.072881\"/>\n      </g>\n     </g>\n     <g id=\"text_21\">\n      <!-- 0 -->\n      <g transform=\"translate(194.487697 53.671319)scale(0.1 -0.1)\">\n       <use xlink:href=\"#DejaVuSans-48\"/>\n      </g>\n     </g>\n    </g>\n    <g id=\"xtick_12\">\n     <g id=\"line2d_22\">\n      <g>\n       <use style=\"stroke:#000000;stroke-width:0.8;\" x=\"223.001877\" xlink:href=\"#m2166f6c3c1\" y=\"39.072881\"/>\n      </g>\n     </g>\n     <g id=\"text_22\">\n      <!-- 25 -->\n      <g transform=\"translate(216.639377 53.671319)scale(0.1 -0.1)\">\n       <use xlink:href=\"#DejaVuSans-50\"/>\n       <use x=\"63.623047\" xlink:href=\"#DejaVuSans-53\"/>\n      </g>\n     </g>\n    </g>\n   </g>\n   <g id=\"matplotlib.axis_12\">\n    <g id=\"ytick_11\">\n     <g id=\"line2d_23\">\n      <g>\n       <use style=\"stroke:#000000;stroke-width:0.8;\" x=\"197.162288\" xlink:href=\"#m5190bdc867\" y=\"11.206659\"/>\n      </g>\n     </g>\n     <g id=\"text_23\">\n      <!-- 0 -->\n      <g transform=\"translate(183.799788 15.005877)scale(0.1 -0.1)\">\n       <use xlink:href=\"#DejaVuSans-48\"/>\n      </g>\n     </g>\n    </g>\n    <g id=\"ytick_12\">\n     <g id=\"line2d_24\">\n      <g>\n       <use style=\"stroke:#000000;stroke-width:0.8;\" x=\"197.162288\" xlink:href=\"#m5190bdc867\" y=\"36.539588\"/>\n      </g>\n     </g>\n     <g id=\"text_24\">\n      <!-- 25 -->\n      <g transform=\"translate(177.437288 40.338807)scale(0.1 -0.1)\">\n       <use xlink:href=\"#DejaVuSans-50\"/>\n       <use x=\"63.623047\" xlink:href=\"#DejaVuSans-53\"/>\n      </g>\n     </g>\n    </g>\n   </g>\n   <g id=\"patch_28\">\n    <path d=\"M 197.162288 39.072881 \nL 197.162288 10.7 \n\" style=\"fill:none;stroke:#000000;stroke-linecap:square;stroke-linejoin:miter;stroke-width:0.8;\"/>\n   </g>\n   <g id=\"patch_29\">\n    <path d=\"M 225.535169 39.072881 \nL 225.535169 10.7 \n\" style=\"fill:none;stroke:#000000;stroke-linecap:square;stroke-linejoin:miter;stroke-width:0.8;\"/>\n   </g>\n   <g id=\"patch_30\">\n    <path d=\"M 197.162288 39.072881 \nL 225.535169 39.072881 \n\" style=\"fill:none;stroke:#000000;stroke-linecap:square;stroke-linejoin:miter;stroke-width:0.8;\"/>\n   </g>\n   <g id=\"patch_31\">\n    <path d=\"M 197.162288 10.7 \nL 225.535169 10.7 \n\" style=\"fill:none;stroke:#000000;stroke-linecap:square;stroke-linejoin:miter;stroke-width:0.8;\"/>\n   </g>\n  </g>\n  <g id=\"axes_7\">\n   <g id=\"patch_32\">\n    <path d=\"M 231.209746 39.072881 \nL 259.582627 39.072881 \nL 259.582627 10.7 \nL 231.209746 10.7 \nz\n\" style=\"fill:#ffffff;\"/>\n   </g>\n   <g clip-path=\"url(#pbaf04fee2a)\">\n    <image height=\"29\" id=\"image231ba118db\" transform=\"scale(1 -1)translate(0 -29)\" width=\"29\" x=\"231.209746\" xlink:href=\"data:image/png;base64,\niVBORw0KGgoAAAANSUhEUgAAAB0AAAAdCAYAAABWk2cPAAAABHNCSVQICAgIfAhkiAAAA3VJREFUSInFltuOG0UQhr/q7hmP7ckSIq2USJCIveJ0xyvwCDwsj8AVQsol4gKiTUgwMSzr9Yy7u4qLHh+i9dreSIGWRiPNob6q6qq/Wr6V74z/eIX3+st5xAkApgaaPwBUBMQh3iN1hYwbEFfe9T267LAUwU5L2mGoCOI9eI+EgLRT7PwR3eMpWhdoPV9RvZqjf86x5RLL+Sj8bugQHd4jdY1rp8SLx7z5ZsLfXyZkkgCofp1w/lPD2fMKeTNDlx3kXOCw14GDkYqTTUptOqY7r1l8Ynz1+Qsu2hkA39dfsHjdMr2cEhZLJCvEWHhqgN4C32NPBRNBg/FkfMXX00sAfnz4KfMHLbkJhCoUB1URgJQwdbfAx6FafpCshKXiu8AyVzSyAqDyGXOgQcANxeVcgXiPkAvYthXujjHNDIbi8H0m3AjXcYTiUBxZHaKAE8wJqBVHN1m6jTi9T0WQZLgITpRH/hqAUUi4tA5hB7ADFieYySbF9xMHM1yCtup5GuYAnDfXvFaQZMWoaalesxK16VBQ23UwvbsfmyvFJBnOQs+zkHkWMhfTGSbg+4zEBGoboOVcbJi+Y/fuSM0oJViWDA6Iwtiv+NhPAHhS/1W8v4nQ9aU/d0F2u2UOF5LpUBhD6lyB9rr1tZGIGLg+Yv1qKDrdG+Fp0A+0jheSKQwTBS3XrG+51g4AL4o5ICas77GUtlHeocGHtRdKnw2952LGr4xXN2e8zNtmzyMgeNDDaT0tUnE7URrSZ1yCt4sJL9MDADqtSK2hk7pMJOJBk3dD1yNtmKF4Xx6r4qKx7Cp+Tx8BcKMjcmPktqaqa2QVi+KZlmydPGXWIy0EpK6hriB4rPKYE3L0LHQEFHXSRknjQBVCyUwebKzBcJrgyzraAWxNTR5XZf8EopXoK8lQK7lx5VQhUnR4V4VOHW1mVrTByXA5tHLkWsDgbWoBaFxEvKLBl6jc8S7cD13rZ0rIKhZDMeGi4nvDrmp+mH8GwMP6BlsG5B5nszugVtIT0+aReE+4qpnMKrrfAs/d0/JipIxfBKp/ekhpO102Mnif44pmzHSQwnJ3OdPGTH3V0v1Slc98oJmvaC6vsHeOKfuBh6HriNeTYhWR6wX8MSP87GiH/pVhH80P4pD1oBodh669HY4a+4RmY3pPa7w/9NR14kEb/qcp8y9Hn+sBJdEBMQAAAABJRU5ErkJggg==\" y=\"-10.072881\"/>\n   </g>\n   <g id=\"matplotlib.axis_13\">\n    <g id=\"xtick_13\">\n     <g id=\"line2d_25\">\n      <g>\n       <use style=\"stroke:#000000;stroke-width:0.8;\" x=\"231.716404\" xlink:href=\"#m2166f6c3c1\" y=\"39.072881\"/>\n      </g>\n     </g>\n     <g id=\"text_25\">\n      <!-- 0 -->\n      <g transform=\"translate(228.535154 53.671319)scale(0.1 -0.1)\">\n       <use xlink:href=\"#DejaVuSans-48\"/>\n      </g>\n     </g>\n    </g>\n    <g id=\"xtick_14\">\n     <g id=\"line2d_26\">\n      <g>\n       <use style=\"stroke:#000000;stroke-width:0.8;\" x=\"257.049334\" xlink:href=\"#m2166f6c3c1\" y=\"39.072881\"/>\n      </g>\n     </g>\n     <g id=\"text_26\">\n      <!-- 25 -->\n      <g transform=\"translate(250.686834 53.671319)scale(0.1 -0.1)\">\n       <use xlink:href=\"#DejaVuSans-50\"/>\n       <use x=\"63.623047\" xlink:href=\"#DejaVuSans-53\"/>\n      </g>\n     </g>\n    </g>\n   </g>\n   <g id=\"matplotlib.axis_14\">\n    <g id=\"ytick_13\">\n     <g id=\"line2d_27\">\n      <g>\n       <use style=\"stroke:#000000;stroke-width:0.8;\" x=\"231.209746\" xlink:href=\"#m5190bdc867\" y=\"11.206659\"/>\n      </g>\n     </g>\n     <g id=\"text_27\">\n      <!-- 0 -->\n      <g transform=\"translate(217.847246 15.005877)scale(0.1 -0.1)\">\n       <use xlink:href=\"#DejaVuSans-48\"/>\n      </g>\n     </g>\n    </g>\n    <g id=\"ytick_14\">\n     <g id=\"line2d_28\">\n      <g>\n       <use style=\"stroke:#000000;stroke-width:0.8;\" x=\"231.209746\" xlink:href=\"#m5190bdc867\" y=\"36.539588\"/>\n      </g>\n     </g>\n     <g id=\"text_28\">\n      <!-- 25 -->\n      <g transform=\"translate(211.484746 40.338807)scale(0.1 -0.1)\">\n       <use xlink:href=\"#DejaVuSans-50\"/>\n       <use x=\"63.623047\" xlink:href=\"#DejaVuSans-53\"/>\n      </g>\n     </g>\n    </g>\n   </g>\n   <g id=\"patch_33\">\n    <path d=\"M 231.209746 39.072881 \nL 231.209746 10.7 \n\" style=\"fill:none;stroke:#000000;stroke-linecap:square;stroke-linejoin:miter;stroke-width:0.8;\"/>\n   </g>\n   <g id=\"patch_34\">\n    <path d=\"M 259.582627 39.072881 \nL 259.582627 10.7 \n\" style=\"fill:none;stroke:#000000;stroke-linecap:square;stroke-linejoin:miter;stroke-width:0.8;\"/>\n   </g>\n   <g id=\"patch_35\">\n    <path d=\"M 231.209746 39.072881 \nL 259.582627 39.072881 \n\" style=\"fill:none;stroke:#000000;stroke-linecap:square;stroke-linejoin:miter;stroke-width:0.8;\"/>\n   </g>\n   <g id=\"patch_36\">\n    <path d=\"M 231.209746 10.7 \nL 259.582627 10.7 \n\" style=\"fill:none;stroke:#000000;stroke-linecap:square;stroke-linejoin:miter;stroke-width:0.8;\"/>\n   </g>\n  </g>\n  <g id=\"axes_8\">\n   <g id=\"patch_37\">\n    <path d=\"M 265.257203 39.072881 \nL 293.630085 39.072881 \nL 293.630085 10.7 \nL 265.257203 10.7 \nz\n\" style=\"fill:#ffffff;\"/>\n   </g>\n   <g clip-path=\"url(#p9ce1ff2820)\">\n    <image height=\"29\" id=\"image04ebb71ae9\" transform=\"scale(1 -1)translate(0 -29)\" width=\"29\" x=\"265.257203\" xlink:href=\"data:image/png;base64,\niVBORw0KGgoAAAANSUhEUgAAAB0AAAAdCAYAAABWk2cPAAAABHNCSVQICAgIfAhkiAAABEhJREFUSInNlktvG1UUx3/n3pnxjGPnQaNGtElfJGkFpeIpFmwQRYI1go/Bd+BD8C2QumaBWBQhEBVSeUhQ1DZJm/SRpHXjR2zPzL2HxdhOSm3XRQVxpJnVzP2fc+7vPOQD+UT5j81M9JVI8TwnC0aLGCQMEGuRIEBVIcvQPEedA/3nCRoqKtYipRKmWkFnqri5Mi4OsJ2cYLuOPqzhW22AngO++HFCR54UFUGiCDM7Q740z6PVKR6tQvpihjTLHLk6xfyVGLN5FwDf7oBXUI/6nuhTnBid3jDAxQHdWSE93uWd1TX284jfOEVSm6a63wHA1PbQPAfniscrqPQc8EOFh4v2tVWRvPBhKalxLrnLzuoUe+sLJHeqxQFpBu02ZD3YnENVEBzqzVDhsfRK5inVPVIL2U0rvFLa4uOlq9RXcjoLCZ2FBE1KYCyYHt1myJF/I3+0qCp2PyPZyamsG364fYqtfI73p35n+exd6ksB9aUAP1NGorCXVi3A8uOBGi6qCmmGNNvE91rMrOf4axW+qr1K1WR8euwn6iue+oonnS0V0Ya9m3qK4GhR79E0hUYLs9eifKfN9A34duMM99wUH039yfKFTZYvbNJcjNByCYljJAgQax4nWZ6UsGfk5c9HRSu+QF/EImGJRiVm4aUaH5YbHK/c5N3Z63xZe4PpTUPQTIsMeU9xg1JcpdJ/jY9UnUOzvCgFXxwUNnMqG3Dp9ms88G0uJo6LieP8W2vUTxQpFmOKSI05AGvi9PaAUOcgzwu/nae869n9+SiXGquDTz9b/JqH5yGbS8DagzPG3O1kDf8525iS8UWh5zmSZpjUEbQcM9fhiz/e43IHLnfgbLjHyde3qJ/u1awY8P4Apn5LPGSjQRIBChJEBAkjCEPEGFqaUF8M+HV/iZVki3Kcc7m2QnU7JGimaJYXIKKDMyYT7WtT/GMUJAjRKECt4dpclfXaEVbmdzkT7fC9OcF+rUq5YbGZR4yAMQfN6FArHC8qUhDZG+IGQWwAYUArKUEtwhzLeXNqAxMLV/YXCVsRURYgGIy1YE0v5QreAeMafm+QD8w56HSxe23iJKC6EQPw3a3TvD29xnJ8n+qJOo3bc0SNmFgVYy0SBgXVzqF5BqoT0NsXNoI6j3S6BLU2lS1HZcvhb1b45uE5Gi7haLVJ9wUlrVp8KehFKYNM9W3saDts6jxiHXRTTMMQb4cAVDYqXD25yFy0jxWPS5Q8FtQI5A7SDO2mRaN5VlG8hywf8GhrRSOYvhXTXCvzY/kkIsX8VQPiFckd2umg3e6A6PGi2p/8Ugxl5wpBI6gI0u4CEN9vM32jyqNwDg2VZMcQNT2mm0M3RdOsJ3hQr+MjPTwfrR1UnHgttkPA3hfmfxHKuwlqhLCVEj1oY7f30EYT7XQHAPVNJl62+2upkSfHlfrHgBssaiNW1cnvVBXUDetqz2z/s4b/L9pfVYMb4k8d1x4AAAAASUVORK5CYII=\" y=\"-10.072881\"/>\n   </g>\n   <g id=\"matplotlib.axis_15\">\n    <g id=\"xtick_15\">\n     <g id=\"line2d_29\">\n      <g>\n       <use style=\"stroke:#000000;stroke-width:0.8;\" x=\"265.763862\" xlink:href=\"#m2166f6c3c1\" y=\"39.072881\"/>\n      </g>\n     </g>\n     <g id=\"text_29\">\n      <!-- 0 -->\n      <g transform=\"translate(262.582612 53.671319)scale(0.1 -0.1)\">\n       <use xlink:href=\"#DejaVuSans-48\"/>\n      </g>\n     </g>\n    </g>\n    <g id=\"xtick_16\">\n     <g id=\"line2d_30\">\n      <g>\n       <use style=\"stroke:#000000;stroke-width:0.8;\" x=\"291.096792\" xlink:href=\"#m2166f6c3c1\" y=\"39.072881\"/>\n      </g>\n     </g>\n     <g id=\"text_30\">\n      <!-- 25 -->\n      <g transform=\"translate(284.734292 53.671319)scale(0.1 -0.1)\">\n       <use xlink:href=\"#DejaVuSans-50\"/>\n       <use x=\"63.623047\" xlink:href=\"#DejaVuSans-53\"/>\n      </g>\n     </g>\n    </g>\n   </g>\n   <g id=\"matplotlib.axis_16\">\n    <g id=\"ytick_15\">\n     <g id=\"line2d_31\">\n      <g>\n       <use style=\"stroke:#000000;stroke-width:0.8;\" x=\"265.257203\" xlink:href=\"#m5190bdc867\" y=\"11.206659\"/>\n      </g>\n     </g>\n     <g id=\"text_31\">\n      <!-- 0 -->\n      <g transform=\"translate(251.894703 15.005877)scale(0.1 -0.1)\">\n       <use xlink:href=\"#DejaVuSans-48\"/>\n      </g>\n     </g>\n    </g>\n    <g id=\"ytick_16\">\n     <g id=\"line2d_32\">\n      <g>\n       <use style=\"stroke:#000000;stroke-width:0.8;\" x=\"265.257203\" xlink:href=\"#m5190bdc867\" y=\"36.539588\"/>\n      </g>\n     </g>\n     <g id=\"text_32\">\n      <!-- 25 -->\n      <g transform=\"translate(245.532203 40.338807)scale(0.1 -0.1)\">\n       <use xlink:href=\"#DejaVuSans-50\"/>\n       <use x=\"63.623047\" xlink:href=\"#DejaVuSans-53\"/>\n      </g>\n     </g>\n    </g>\n   </g>\n   <g id=\"patch_38\">\n    <path d=\"M 265.257203 39.072881 \nL 265.257203 10.7 \n\" style=\"fill:none;stroke:#000000;stroke-linecap:square;stroke-linejoin:miter;stroke-width:0.8;\"/>\n   </g>\n   <g id=\"patch_39\">\n    <path d=\"M 293.630085 39.072881 \nL 293.630085 10.7 \n\" style=\"fill:none;stroke:#000000;stroke-linecap:square;stroke-linejoin:miter;stroke-width:0.8;\"/>\n   </g>\n   <g id=\"patch_40\">\n    <path d=\"M 265.257203 39.072881 \nL 293.630085 39.072881 \n\" style=\"fill:none;stroke:#000000;stroke-linecap:square;stroke-linejoin:miter;stroke-width:0.8;\"/>\n   </g>\n   <g id=\"patch_41\">\n    <path d=\"M 265.257203 10.7 \nL 293.630085 10.7 \n\" style=\"fill:none;stroke:#000000;stroke-linecap:square;stroke-linejoin:miter;stroke-width:0.8;\"/>\n   </g>\n  </g>\n  <g id=\"axes_9\">\n   <g id=\"patch_42\">\n    <path d=\"M 299.304661 39.072881 \nL 327.677542 39.072881 \nL 327.677542 10.7 \nL 299.304661 10.7 \nz\n\" style=\"fill:#ffffff;\"/>\n   </g>\n   <g clip-path=\"url(#pf1d23c2e55)\">\n    <image height=\"29\" id=\"imageec750122ab\" transform=\"scale(1 -1)translate(0 -29)\" width=\"29\" x=\"299.304661\" xlink:href=\"data:image/png;base64,\niVBORw0KGgoAAAANSUhEUgAAAB0AAAAdCAYAAABWk2cPAAAABHNCSVQICAgIfAhkiAAABUtJREFUSInFlktvXVcVx3977/O+5758/U4I1LS0SgqBqAikyh2ggISEVCExYAYfgQkDZnwEpqgfoEJighgxKhQRiapFkUqI5TgJieM4ftzre33u4zz3YnBdEmNjG1UtSzqTc6Tz2/+11n+trW6qHwmfc+jPGwjgnPlVqZPv5NMn5nSoNmjPRQU+KgjA98AYsBbSDBlPsFk2PUNRgq0+HVS5HrpZR5bnSL7c5PCLhsmiUEYWXSj8riZ+IjTvTwBwH+9jewdIliFVdaFMHIdqg27EVCvL7N2IOfh6xatfecT35u/yerCJUZbNosOf+q/y/r2XAYg/vML8R7N4G9vY/gCbFyD2TLh6sXuV76O/sEzvWwvsrFpWr6/xk/m/cN07JFIuRikcDADrRQrAr7tv8bu/3mD5PUXrox3szt65qp8rVQplDLYeMV7Q1OYTroQH/DOf4/3ha9xNFjnMAy5FA77bvsP3a08B+NXSh6zeXOcX7R9Shkt0bil4uoOkGXC64pON5GjEQFEY1ofz3O5f5u7mIu6DkKALT0J479I13rm6DcDPv/QHflDrEnzzN/xMfozJFmhnBbK7h+T5qUrNirr6y+c11ahWg3QuYNg0DI1LfxJSbNVo3YPWRk78tCLa0fS6LUYbDX5vX8NpHfJm+IiwnfFHu0K8H+EejKEop/U9C6qUwjge0ogpA4dhaDBeRZm6BHuK2m6BMyxwJhY3VYQ9ix37/Nm5TL2d8nqwxZo3z/5ghvq+Rg3HU0v9R4qPKxVBCTgmpIp88tjgzGQ4tYIs93GHGlOAOArraJSAKEWBy72oxWw8Qhv4R7JA1PPwexkySU/4+DgUwArGgvFrZC2Hcqngq0vbjFrQlxrKOljPUIaKyp8+1lX0jcfAD7Aono4bOF2XqCuo0RgpinOgYqGyOLhUjYjBkubmS2vcnFvjYaPJblVH0FgHqkAhBkAhaPZUQGJ9somL23cIe4JJUkiz6TT7pHVOba/POE4qBaSy6LLEdWLGnZD6Swk/nfmAq40nfOBc5jCp4YwVohUmB5OBkylsZRiLC4XGTTTBAXiDDBmNoarOhiICZYWTCzpscGeuyRvLD/hOOKIMxtwaX8HdcxED/oHgDQUnBWU11ihUpTEThZ+A1y/gcHisrqdDj8CSFwS5Sx60+Hhplrdat/mav892UOdOskDeEry+xh9adCmIVtM6O2AyhTcEb1ChB0PkaCudDQUQ0HlBVEQ89ufYWopYjR9wNdrkQdzh0nKP+9UMqnCwjqKMFUUDKg90qXAm4CcW3R9OrXMhKEwtlJUEZZ2/BUtkC8Jq9Jjr8UPerG8wmXVZqzcZxi7ZrKXslNjYIqLRxSdqj/x6VNfzoYCyFi8Ft6pzy71MOqO4EW7iKOGN6BErs/s4cyW12Qnt1gg/KkhwURMHL1H4A4uepEg2ncVnX1cAxCJ5jnQPaN4JKP0Z3rXf5sk3WgC83bnNirfLYmfAVtFmPV3k4/4yz4yAgBLAKFDP3Xk+FBAr2EmK3u3R/rsDNLg1ugbA+rV5Vhfv80q4QyGG/Sxms99C7fiEu0LQLVCj9NjGuYBSYboXFTIaYZ51aWtwJzEAB715fvtyi5n5Q1xj6fZj2AxpPITmwwJ/O4HBEMmLfw/+CylFBLECRYk9TNDW0kim3RjuNBhveEw6HSaBIs4h7Flq2xnuswR6AyRJkPK5Ty8GBbAVIhapKlReQH8w/cGWQ9MYmp6LCkPEd1FWYDzBjsZImk2BL6y3i0OPFCMV8sKqetH0aIMyBrQCK0f3pJNXlv8Nel7Y4wf6b/F/2TL/AnOVmIOev3gOAAAAAElFTkSuQmCC\" y=\"-10.072881\"/>\n   </g>\n   <g id=\"matplotlib.axis_17\">\n    <g id=\"xtick_17\">\n     <g id=\"line2d_33\">\n      <g>\n       <use style=\"stroke:#000000;stroke-width:0.8;\" x=\"299.81132\" xlink:href=\"#m2166f6c3c1\" y=\"39.072881\"/>\n      </g>\n     </g>\n     <g id=\"text_33\">\n      <!-- 0 -->\n      <g transform=\"translate(296.63007 53.671319)scale(0.1 -0.1)\">\n       <use xlink:href=\"#DejaVuSans-48\"/>\n      </g>\n     </g>\n    </g>\n    <g id=\"xtick_18\">\n     <g id=\"line2d_34\">\n      <g>\n       <use style=\"stroke:#000000;stroke-width:0.8;\" x=\"325.144249\" xlink:href=\"#m2166f6c3c1\" y=\"39.072881\"/>\n      </g>\n     </g>\n     <g id=\"text_34\">\n      <!-- 25 -->\n      <g transform=\"translate(318.781749 53.671319)scale(0.1 -0.1)\">\n       <use xlink:href=\"#DejaVuSans-50\"/>\n       <use x=\"63.623047\" xlink:href=\"#DejaVuSans-53\"/>\n      </g>\n     </g>\n    </g>\n   </g>\n   <g id=\"matplotlib.axis_18\">\n    <g id=\"ytick_17\">\n     <g id=\"line2d_35\">\n      <g>\n       <use style=\"stroke:#000000;stroke-width:0.8;\" x=\"299.304661\" xlink:href=\"#m5190bdc867\" y=\"11.206659\"/>\n      </g>\n     </g>\n     <g id=\"text_35\">\n      <!-- 0 -->\n      <g transform=\"translate(285.942161 15.005877)scale(0.1 -0.1)\">\n       <use xlink:href=\"#DejaVuSans-48\"/>\n      </g>\n     </g>\n    </g>\n    <g id=\"ytick_18\">\n     <g id=\"line2d_36\">\n      <g>\n       <use style=\"stroke:#000000;stroke-width:0.8;\" x=\"299.304661\" xlink:href=\"#m5190bdc867\" y=\"36.539588\"/>\n      </g>\n     </g>\n     <g id=\"text_36\">\n      <!-- 25 -->\n      <g transform=\"translate(279.579661 40.338807)scale(0.1 -0.1)\">\n       <use xlink:href=\"#DejaVuSans-50\"/>\n       <use x=\"63.623047\" xlink:href=\"#DejaVuSans-53\"/>\n      </g>\n     </g>\n    </g>\n   </g>\n   <g id=\"patch_43\">\n    <path d=\"M 299.304661 39.072881 \nL 299.304661 10.7 \n\" style=\"fill:none;stroke:#000000;stroke-linecap:square;stroke-linejoin:miter;stroke-width:0.8;\"/>\n   </g>\n   <g id=\"patch_44\">\n    <path d=\"M 327.677542 39.072881 \nL 327.677542 10.7 \n\" style=\"fill:none;stroke:#000000;stroke-linecap:square;stroke-linejoin:miter;stroke-width:0.8;\"/>\n   </g>\n   <g id=\"patch_45\">\n    <path d=\"M 299.304661 39.072881 \nL 327.677542 39.072881 \n\" style=\"fill:none;stroke:#000000;stroke-linecap:square;stroke-linejoin:miter;stroke-width:0.8;\"/>\n   </g>\n   <g id=\"patch_46\">\n    <path d=\"M 299.304661 10.7 \nL 327.677542 10.7 \n\" style=\"fill:none;stroke:#000000;stroke-linecap:square;stroke-linejoin:miter;stroke-width:0.8;\"/>\n   </g>\n  </g>\n  <g id=\"axes_10\">\n   <g id=\"patch_47\">\n    <path d=\"M 333.352119 39.072881 \nL 361.725 39.072881 \nL 361.725 10.7 \nL 333.352119 10.7 \nz\n\" style=\"fill:#ffffff;\"/>\n   </g>\n   <g clip-path=\"url(#p6e4791d160)\">\n    <image height=\"29\" id=\"imagef3a66779dc\" transform=\"scale(1 -1)translate(0 -29)\" width=\"29\" x=\"333.352119\" xlink:href=\"data:image/png;base64,\niVBORw0KGgoAAAANSUhEUgAAAB0AAAAdCAYAAABWk2cPAAAABHNCSVQICAgIfAhkiAAABNhJREFUSIndlstuXMcRhr/qPve5k5xhRMmiqAsESfbGMhwgyMaA4Sfw0vDOuzxE3iCPkQBB4E2WQRZGAgfOIgspsGHGMiiKsiiJI86cmTnX7s7iTERLJEXZziJIbc456Dr991/1V3XJ+/Kh4ywTAVFH385+7/3s31827zQQ0RoJQ1SnjWsnuFaESQLEOfQ0h4NDAOzhBFeWPwj8ZFBAPA/VaWPXV8gutEnPe+SrAkCy32LwVdxssO2wz57h6vqng/7HnFJUiSIbCtlWiZfU5MMIXTSgK086SJrijHlttuq0BVfXuKJELQr8uUVXoGPD9Y19elefkW4q0k2FGbTA91/M+Y8CdQ5nHS7LkElK9DgjfuwwE5+un/PLjXssrpQsrpRkGzESBoiSpeDkTNBXhtcZi01n6Ece3XbA4mcR9y8P+GD1nzy41gdg++o12ne7MEkB8xOYQlMWzuLKCjuZEt4fM/jasPftGnMb8vG5z/n43OfM38rJL60gUXgU4jPY6sty89cnroggSjVP58BaAhtQtRKebvp8svYFG96Mw3bI3SeX6O/UuNkcrD1xu7OZKo14flOnrRhpt5AgQBYFvW9r7nz1BvfqNvfqNr9a+4zy5ynzGyNUr4N4S1G9Ir/HmYoggY9qtVC9Lqz2scMeZrWL6UeYQFNFPrNNzd3sAh/1H+N1D/jT9Aa9xyEqK5vIIHBKBZ0oJAkCpN3CjHrko4Sir6ljwXrgNODgL3tbAHw5/DMfdb/h97/Y4+nueYbFENkfwyKDssRVNWBfqOHjTJVGhQH0O5TrHdI3fBbnFGVfqBPBRILzYK58yllINCp5LxnTbz3k0+xN4oOQYFojZQXGNjl+qWmcmFO3dDKRohgIxcBhQoeXQTh2RE8cyY5HsuPxu3/d5m8FvBM+4vr1PSZbHmbQQnz/1Jy+fhv5L9rJoNYidVPoNoC6bzARBFNH/17F6pc5a3dq1u7UuL/3+M3eB4ytx3vDr0kvG/L1GOLoVNBjQhIlz4FVYcGBJDU2rin2I/S2wX84wV+GTlUD/jG6yh+6t7kS7tO5OGV6cUD8sI2apriiOIOpCGiN+B4oha4s3gJEHBvrh8xuFRzcjKjWu+Bp8DThuKC7rfjj/Vvs1z22BmPmFxz5eoJ02kgQHLsMXmQqChEBz8N5unHIHHbuM9pMuXFzn792tngw6tLZWd6nucMGkE5b7OYrDMIF1UrNYuQR77WQSYpUNc4dqfiUyUGBak7nzx3BU83udMDbF3e5dWOPz0bXuPPgPABmHOK8mpXuHOsUxgkSWqq2UHdCgiRGimJ535oTQJ3FOYdUJZIX6GlI8kRjAp+prPLb4jbvnr/PVuuA5FIFwN6wR2U0/ShjWofszga4hUaMAy3ge4jnIfqI7UugDlfVWHIUoMuKaJYQjBPa38XMt7t8ce4t8qHFJsvG7lnQjocywNWCPvToPlC0Hhn0rATTEPn+MHc8vNbgSoupamSeIZMpat8j3glJopC1doxthZjYb8Iba6y/FIoFLy/RWY1OC2Se4bIMjMFZd0ZOnQNncNbgqrJRdZo2QtMalKCXrhrAOlDShDEIQCsQ1Yw8ZdlMi/bogj9zMHt+CHh+kFPdyhKyfDm6qEYjJwxsrwf6uvY8Qq92+x/qvf+PoP8GH3ExDlscB0UAAAAASUVORK5CYII=\" y=\"-10.072881\"/>\n   </g>\n   <g id=\"matplotlib.axis_19\">\n    <g id=\"xtick_19\">\n     <g id=\"line2d_37\">\n      <g>\n       <use style=\"stroke:#000000;stroke-width:0.8;\" x=\"333.858777\" xlink:href=\"#m2166f6c3c1\" y=\"39.072881\"/>\n      </g>\n     </g>\n     <g id=\"text_37\">\n      <!-- 0 -->\n      <g transform=\"translate(330.677527 53.671319)scale(0.1 -0.1)\">\n       <use xlink:href=\"#DejaVuSans-48\"/>\n      </g>\n     </g>\n    </g>\n    <g id=\"xtick_20\">\n     <g id=\"line2d_38\">\n      <g>\n       <use style=\"stroke:#000000;stroke-width:0.8;\" x=\"359.191707\" xlink:href=\"#m2166f6c3c1\" y=\"39.072881\"/>\n      </g>\n     </g>\n     <g id=\"text_38\">\n      <!-- 25 -->\n      <g transform=\"translate(352.829207 53.671319)scale(0.1 -0.1)\">\n       <use xlink:href=\"#DejaVuSans-50\"/>\n       <use x=\"63.623047\" xlink:href=\"#DejaVuSans-53\"/>\n      </g>\n     </g>\n    </g>\n   </g>\n   <g id=\"matplotlib.axis_20\">\n    <g id=\"ytick_19\">\n     <g id=\"line2d_39\">\n      <g>\n       <use style=\"stroke:#000000;stroke-width:0.8;\" x=\"333.352119\" xlink:href=\"#m5190bdc867\" y=\"11.206659\"/>\n      </g>\n     </g>\n     <g id=\"text_39\">\n      <!-- 0 -->\n      <g transform=\"translate(319.989619 15.005877)scale(0.1 -0.1)\">\n       <use xlink:href=\"#DejaVuSans-48\"/>\n      </g>\n     </g>\n    </g>\n    <g id=\"ytick_20\">\n     <g id=\"line2d_40\">\n      <g>\n       <use style=\"stroke:#000000;stroke-width:0.8;\" x=\"333.352119\" xlink:href=\"#m5190bdc867\" y=\"36.539588\"/>\n      </g>\n     </g>\n     <g id=\"text_40\">\n      <!-- 25 -->\n      <g transform=\"translate(313.627119 40.338807)scale(0.1 -0.1)\">\n       <use xlink:href=\"#DejaVuSans-50\"/>\n       <use x=\"63.623047\" xlink:href=\"#DejaVuSans-53\"/>\n      </g>\n     </g>\n    </g>\n   </g>\n   <g id=\"patch_48\">\n    <path d=\"M 333.352119 39.072881 \nL 333.352119 10.7 \n\" style=\"fill:none;stroke:#000000;stroke-linecap:square;stroke-linejoin:miter;stroke-width:0.8;\"/>\n   </g>\n   <g id=\"patch_49\">\n    <path d=\"M 361.725 39.072881 \nL 361.725 10.7 \n\" style=\"fill:none;stroke:#000000;stroke-linecap:square;stroke-linejoin:miter;stroke-width:0.8;\"/>\n   </g>\n   <g id=\"patch_50\">\n    <path d=\"M 333.352119 39.072881 \nL 361.725 39.072881 \n\" style=\"fill:none;stroke:#000000;stroke-linecap:square;stroke-linejoin:miter;stroke-width:0.8;\"/>\n   </g>\n   <g id=\"patch_51\">\n    <path d=\"M 333.352119 10.7 \nL 361.725 10.7 \n\" style=\"fill:none;stroke:#000000;stroke-linecap:square;stroke-linejoin:miter;stroke-width:0.8;\"/>\n   </g>\n  </g>\n </g>\n <defs>\n  <clipPath id=\"p921e838c88\">\n   <rect height=\"28.372881\" width=\"28.372881\" x=\"26.925\" y=\"10.7\"/>\n  </clipPath>\n  <clipPath id=\"p8a9ca8df7d\">\n   <rect height=\"28.372881\" width=\"28.372881\" x=\"60.972458\" y=\"10.7\"/>\n  </clipPath>\n  <clipPath id=\"p0a7b614d20\">\n   <rect height=\"28.372881\" width=\"28.372881\" x=\"95.019915\" y=\"10.7\"/>\n  </clipPath>\n  <clipPath id=\"p9d18b029c4\">\n   <rect height=\"28.372881\" width=\"28.372881\" x=\"129.067373\" y=\"10.7\"/>\n  </clipPath>\n  <clipPath id=\"p250875be10\">\n   <rect height=\"28.372881\" width=\"28.372881\" x=\"163.114831\" y=\"10.7\"/>\n  </clipPath>\n  <clipPath id=\"p3537263396\">\n   <rect height=\"28.372881\" width=\"28.372881\" x=\"197.162288\" y=\"10.7\"/>\n  </clipPath>\n  <clipPath id=\"pbaf04fee2a\">\n   <rect height=\"28.372881\" width=\"28.372881\" x=\"231.209746\" y=\"10.7\"/>\n  </clipPath>\n  <clipPath id=\"p9ce1ff2820\">\n   <rect height=\"28.372881\" width=\"28.372881\" x=\"265.257203\" y=\"10.7\"/>\n  </clipPath>\n  <clipPath id=\"pf1d23c2e55\">\n   <rect height=\"28.372881\" width=\"28.372881\" x=\"299.304661\" y=\"10.7\"/>\n  </clipPath>\n  <clipPath id=\"p6e4791d160\">\n   <rect height=\"28.372881\" width=\"28.372881\" x=\"333.352119\" y=\"10.7\"/>\n  </clipPath>\n </defs>\n</svg>\n",
      "image/png": "[encoded data removed]"
     },
     "metadata": {
      "needs_background": "light"
     }
    }
   ],
   "metadata": {}
  },
  {
   "cell_type": "code",
   "execution_count": 148,
   "source": [
    "digit = np.zeros((10, ), dtype = int)\n",
    "count = np.zeros((10, ), dtype = int)\n",
    "cardinality = np.zeros((10, ), dtype = int)\n",
    "for i in range(10):\n",
    "    unique_digits = np.unique(y[min_distance == i], return_counts = True)\n",
    "    digit[i] = unique_digits[0][np.argmax(unique_digits[1])]\n",
    "    count[i] = unique_digits[1][np.argmax(unique_digits[1])]\n",
    "    cardinality[i] = sum(unique_digits[1])\n",
    "\n",
    "accuracy = (sum(count)/ sum(cardinality)) * 100 # %\n",
    "print(accuracy)"
   ],
   "outputs": [
    {
     "output_type": "stream",
     "name": "stdout",
     "text": [
      "59.93714285714285\n"
     ]
    }
   ],
   "metadata": {}
  },
  {
   "cell_type": "markdown",
   "source": [
    "### Kernelized k-means clustering"
   ],
   "metadata": {}
  },
  {
   "cell_type": "code",
   "execution_count": 157,
   "source": [
    "from clustering import polynomial_kernel"
   ],
   "outputs": [],
   "metadata": {}
  },
  {
   "cell_type": "code",
   "execution_count": 4,
   "source": [
    "def cluster_initialization(X, nclusters, subset = 100):\n",
    "\n",
    "    max_distance = []\n",
    "    positions = []\n",
    "    for i in range(nclusters * nclusters):\n",
    "        random_positions = random.sample(range(len(X[:subset])), nclusters * nclusters)\n",
    "        combos = []\n",
    "        for i in range(10):\n",
    "            combos.append(\n",
    "                sum(\n",
    "                    [\n",
    "                        np.sum((X[:subset][indices[0]] - X[:subset][indices[1]]) ** 2)\n",
    "                        for indices in list(\n",
    "                            combinations(random_positions[nclusters * i : nclusters * (i + 1)], 2)\n",
    "                        )\n",
    "                    ]\n",
    "                )\n",
    "            )\n",
    "            max_index = np.argmax(combos)\n",
    "            positions.append(random_positions[nclusters * max_index : nclusters * (max_index + 1)])\n",
    "            max_distance.append(combos[np.argmax(combos)])\n",
    "\n",
    "    return positions, max_distance"
   ],
   "outputs": [],
   "metadata": {}
  },
  {
   "cell_type": "code",
   "execution_count": 66,
   "source": [
    "positions, max_distance = cluster_initialization(X, 10, subset = 10000)\n",
    "\n",
    "clusters = {}\n",
    "for i, index in enumerate(positions[np.argmax(max_distance)]):\n",
    "    clusters[i] = [index]"
   ],
   "outputs": [],
   "metadata": {}
  },
  {
   "cell_type": "code",
   "execution_count": 7,
   "source": [
    "def polynomial_kernel(x1, x2):\n",
    "    return (1 + x1.T * x2 ) ** 2"
   ],
   "outputs": [],
   "metadata": {}
  },
  {
   "cell_type": "code",
   "execution_count": 5,
   "source": [
    "X = X.astype('float32')"
   ],
   "outputs": [],
   "metadata": {}
  },
  {
   "cell_type": "code",
   "execution_count": 61,
   "source": [
    "A = np.zeros((10000, 10000))\n",
    "for i in range(10000):\n",
    "    A[i, i:,] = X[i] @ X[i:10000].T"
   ],
   "outputs": [],
   "metadata": {}
  },
  {
   "cell_type": "markdown",
   "source": [],
   "metadata": {}
  },
  {
   "cell_type": "code",
   "execution_count": 62,
   "source": [
    "%%time \n",
    "\n",
    "A_symmetry =  A + A.T - np.diag(np.diag(A))"
   ],
   "outputs": [
    {
     "output_type": "stream",
     "name": "stdout",
     "text": [
      "CPU times: user 1.99 s, sys: 1.96 s, total: 3.96 s\n",
      "Wall time: 5.69 s\n"
     ]
    }
   ],
   "metadata": {}
  },
  {
   "cell_type": "code",
   "execution_count": 63,
   "source": [
    "subset = 10000\n",
    "data_distances_to_centroids = np.zeros((subset, 10))\n"
   ],
   "outputs": [],
   "metadata": {}
  },
  {
   "cell_type": "code",
   "execution_count": 10,
   "source": [
    "from itertools import permutations"
   ],
   "outputs": [],
   "metadata": {}
  },
  {
   "cell_type": "code",
   "execution_count": 67,
   "source": [
    "A = np.zeros((10000, 10))\n",
    "for i in range(10): A[:,i] = np.diag(A_symmetry)\n",
    "\n",
    "B = np.zeros((10000, 10))\n",
    "C = np.zeros((10, ))"
   ],
   "outputs": [],
   "metadata": {}
  },
  {
   "cell_type": "code",
   "execution_count": 68,
   "source": [
    "old_residual = np.sum(data_distances_to_centroids)\n",
    "residual = old_residual + 1\n",
    "no_iterations = 0\n",
    "\n",
    "while np.abs(old_residual - residual) > 0.0 and (no_iterations < 50):\n",
    "\n",
    "    for i, cluster in clusters.items():\n",
    "        B[:, i] = 2 / len(cluster) * np.sum(A_symmetry[cluster], axis = 0)\n",
    "        C[i] = (1 / len(cluster)**2) * np.sum(np.array([A_symmetry[x[0], x[1]] if len(x) > 1 else A_symmetry[x[0], x[0]] for x in permutations(cluster)]))\n",
    "\n",
    "    data_distances_to_centroids = A - B + C\n",
    "    \n",
    "    min_distance = np.argmin(data_distances_to_centroids, axis=1)\n",
    "\n",
    "    for i in list(clusters.keys()):\n",
    "        clusters[i] = np.where(min_distance == i)\n",
    "\n",
    "    old_residual = residual\n",
    "    residual = np.sum(data_distances_to_centroids)\n",
    "\n",
    "    print(no_iterations, residual)\n",
    "\n",
    "    no_iterations += 1"
   ],
   "outputs": [
    {
     "output_type": "stream",
     "name": "stdout",
     "text": [
      "0 793875228562.0\n",
      "1 113152092193016.0\n",
      "2 113152092193016.0\n"
     ]
    }
   ],
   "metadata": {}
  },
  {
   "cell_type": "code",
   "execution_count": 72,
   "source": [
    "min_dis"
   ],
   "outputs": [
    {
     "output_type": "execute_result",
     "data": {
      "text/plain": [
       "array(['5', '0', '4', ..., '4', '5', '6'], dtype=object)"
      ]
     },
     "metadata": {},
     "execution_count": 72
    }
   ],
   "metadata": {}
  },
  {
   "cell_type": "code",
   "execution_count": 73,
   "source": [
    "digit = np.zeros((10, ), dtype = int)\n",
    "count = np.zeros((10, ), dtype = int)\n",
    "cardinality = np.zeros((10, ), dtype = int)\n",
    "for i in range(10):\n",
    "    unique_digits = np.unique(y[:10000][min_distance == i], return_counts = True)\n",
    "    digit[i] = unique_digits[0][np.argmax(unique_digits[1])]\n",
    "    count[i] = unique_digits[1][np.argmax(unique_digits[1])]\n",
    "    cardinality[i] = sum(unique_digits[1])\n",
    "\n",
    "accuracy = (sum(count)/ sum(cardinality)) * 100 # %\n",
    "print(accuracy)"
   ],
   "outputs": [
    {
     "output_type": "stream",
     "name": "stdout",
     "text": [
      "36.46\n"
     ]
    }
   ],
   "metadata": {}
  },
  {
   "cell_type": "code",
   "execution_count": 7,
   "source": [
    "\n",
    "\n",
    "data = X[453]\n",
    "\n",
    "clusters = {0: np.hstack((range(200), range(600,len(data)))) ,\n",
    "1: range(200, 600)\n",
    "}\n",
    "\n",
    "clusters = kernelized_k_means_clustering(data, clusters, kernel = polynomial_kernel)"
   ],
   "outputs": [
    {
     "output_type": "stream",
     "name": "stdout",
     "text": [
      "Converged in: %d iterations 4\n"
     ]
    }
   ],
   "metadata": {}
  },
  {
   "cell_type": "code",
   "execution_count": 8,
   "source": [
    "clustered_data = np.zeros((len(data), 1))\n",
    "\n",
    "clustered_data[clusters[0]] = 0\n",
    "clustered_data[clusters[1]] = 1"
   ],
   "outputs": [],
   "metadata": {}
  },
  {
   "cell_type": "code",
   "execution_count": 9,
   "source": [
    "plt.imshow(clustered_data.reshape(28, -1))\n",
    "print(y[453])"
   ],
   "outputs": [
    {
     "output_type": "stream",
     "name": "stdout",
     "text": [
      "0\n"
     ]
    },
    {
     "output_type": "display_data",
     "data": {
      "text/plain": [
       "<Figure size 432x288 with 1 Axes>"
      ],
      "image/svg+xml": "<?xml version=\"1.0\" encoding=\"utf-8\" standalone=\"no\"?>\n<!DOCTYPE svg PUBLIC \"-//W3C//DTD SVG 1.1//EN\"\n  \"http://www.w3.org/Graphics/SVG/1.1/DTD/svg11.dtd\">\n<!-- Created with matplotlib (https://matplotlib.org/) -->\n<svg height=\"252.018125pt\" version=\"1.1\" viewBox=\"0 0 255.065 252.018125\" width=\"255.065pt\" xmlns=\"http://www.w3.org/2000/svg\" xmlns:xlink=\"http://www.w3.org/1999/xlink\">\n <defs>\n  <style type=\"text/css\">\n*{stroke-linecap:butt;stroke-linejoin:round;}\n  </style>\n </defs>\n <g id=\"figure_1\">\n  <g id=\"patch_1\">\n   <path d=\"M 0 252.018125 \nL 255.065 252.018125 \nL 255.065 0 \nL 0 0 \nz\n\" style=\"fill:none;\"/>\n  </g>\n  <g id=\"axes_1\">\n   <g id=\"patch_2\">\n    <path d=\"M 26.925 228.14 \nL 244.365 228.14 \nL 244.365 10.7 \nL 26.925 10.7 \nz\n\" style=\"fill:#ffffff;\"/>\n   </g>\n   <g clip-path=\"url(#p17a28a6aea)\">\n    <image height=\"218\" id=\"image2a0c667473\" transform=\"scale(1 -1)translate(0 -218)\" width=\"218\" x=\"26.925\" xlink:href=\"data:image/png;base64,\niVBORw0KGgoAAAANSUhEUgAAANoAAADaCAYAAADAHVzbAAAABHNCSVQICAgIfAhkiAAAA3RJREFUeJzt3dFt2zAARdG66BSdokME6AJZNltkiq6RfhtorMKKLknpnAESJcYFAT7Yvr3cXj++AYf6PvoB4AqEBgGhQUBoEBAaBIQGAaFBQGgQEBoEhAYBoUFAaBAQGgSEBgGhQUBoEBAaBIQGAaFBQGgQEBoEhAYBoUFAaBAQGgSEBgGhQUBoEBAaBIQGgR+jH2CUtz/vox/hU79//hr9CHwxJxoEhAYBoUFAaBAQGgSEBgGhQWDpHW3mLWyPvX+XHW4+TjQICA0CQoOA0CAgNAgIDQJCg8DUO9pZd7Kj7fm/2eCO4USDgNAgIDQICA0CQoOA0CAgNAhMvaPR8164YzjRICA0CAgNAkKDgNAgIDQIuN7/xMhr6pXfHrT17Fe9/neiQUBoEBAaBIQGAaFBQGgQEBoE7GgTOnprGrnTPfrdZ97YnGgQEBoEhAYBoUFAaBAQGgSEBgE72gU92qtm3dj+x8w7nBMNAkKDgNAgIDQICA0CQoOA0CBgR+PO3i1q5c+kPJITDQJCg4DQICA0CAgNAkKDwO3l9vox+iGeNfIqeea3ZMzsqq+ZEw0CQoOA0CAgNAgIDQJCg4DQIGBHG8AG92+jX88jXxcnGgSEBgGhQUBoEBAaBIQGAaFBYOmPm5v164d4ztaOtfJr6kSDgNAgIDQICA0CQoOA0CAgNAgsvaM9cuZNhvU40SAgNAgIDQJCg4DQICA0CAgNAqfd0baM3Nm2frbPfTwfJxoEhAYBoUFAaBAQGgSEBoHLXu9vcf3PV3KiQUBoEBAaBIQGAaFBQGgQEBoE7GgLsrOtx4kGAaFBQGgQEBoEhAYBoUFAaBCwoz1pz1Z19FdG7fn5Ize4M3+VlhMNAkKDgNAgIDQICA0CQoOA0CBgR+POmbeskRuhEw0CQoOA0CAgNAgIDQJCg4DQIGBHG2DvnnPmrWuPmT/P0okGAaFBQGgQEBoEhAYBoUHA9f6Ctq6xz3r9P/P1/RYnGgSEBgGhQUBoEBAaBIQGAaFBwI52QjN/pdTKW9geTjQICA0CQoOA0CAgNAgIDQJCg4AdjTtX3bmO5kSDgNAgIDQICA0CQoOA0CAgNAgIDQJCg4DQICA0CAgNAkKDgNAgIDQICA0CQoOA0CAgNAgIDQJCg4DQICA0CAgNAkKDgNAgIDQICA0CQoOA0CDwFwgIZzHESCveAAAAAElFTkSuQmCC\" y=\"-10.14\"/>\n   </g>\n   <g id=\"matplotlib.axis_1\">\n    <g id=\"xtick_1\">\n     <g id=\"line2d_1\">\n      <defs>\n       <path d=\"M 0 0 \nL 0 3.5 \n\" id=\"mdd68ea2e3c\" style=\"stroke:#000000;stroke-width:0.8;\"/>\n      </defs>\n      <g>\n       <use style=\"stroke:#000000;stroke-width:0.8;\" x=\"30.807857\" xlink:href=\"#mdd68ea2e3c\" y=\"228.14\"/>\n      </g>\n     </g>\n     <g id=\"text_1\">\n      <!-- 0 -->\n      <defs>\n       <path d=\"M 31.78125 66.40625 \nQ 24.171875 66.40625 20.328125 58.90625 \nQ 16.5 51.421875 16.5 36.375 \nQ 16.5 21.390625 20.328125 13.890625 \nQ 24.171875 6.390625 31.78125 6.390625 \nQ 39.453125 6.390625 43.28125 13.890625 \nQ 47.125 21.390625 47.125 36.375 \nQ 47.125 51.421875 43.28125 58.90625 \nQ 39.453125 66.40625 31.78125 66.40625 \nz\nM 31.78125 74.21875 \nQ 44.046875 74.21875 50.515625 64.515625 \nQ 56.984375 54.828125 56.984375 36.375 \nQ 56.984375 17.96875 50.515625 8.265625 \nQ 44.046875 -1.421875 31.78125 -1.421875 \nQ 19.53125 -1.421875 13.0625 8.265625 \nQ 6.59375 17.96875 6.59375 36.375 \nQ 6.59375 54.828125 13.0625 64.515625 \nQ 19.53125 74.21875 31.78125 74.21875 \nz\n\" id=\"DejaVuSans-48\"/>\n      </defs>\n      <g transform=\"translate(27.626607 242.738437)scale(0.1 -0.1)\">\n       <use xlink:href=\"#DejaVuSans-48\"/>\n      </g>\n     </g>\n    </g>\n    <g id=\"xtick_2\">\n     <g id=\"line2d_2\">\n      <g>\n       <use style=\"stroke:#000000;stroke-width:0.8;\" x=\"69.636429\" xlink:href=\"#mdd68ea2e3c\" y=\"228.14\"/>\n      </g>\n     </g>\n     <g id=\"text_2\">\n      <!-- 5 -->\n      <defs>\n       <path d=\"M 10.796875 72.90625 \nL 49.515625 72.90625 \nL 49.515625 64.59375 \nL 19.828125 64.59375 \nL 19.828125 46.734375 \nQ 21.96875 47.46875 24.109375 47.828125 \nQ 26.265625 48.1875 28.421875 48.1875 \nQ 40.625 48.1875 47.75 41.5 \nQ 54.890625 34.8125 54.890625 23.390625 \nQ 54.890625 11.625 47.5625 5.09375 \nQ 40.234375 -1.421875 26.90625 -1.421875 \nQ 22.3125 -1.421875 17.546875 -0.640625 \nQ 12.796875 0.140625 7.71875 1.703125 \nL 7.71875 11.625 \nQ 12.109375 9.234375 16.796875 8.0625 \nQ 21.484375 6.890625 26.703125 6.890625 \nQ 35.15625 6.890625 40.078125 11.328125 \nQ 45.015625 15.765625 45.015625 23.390625 \nQ 45.015625 31 40.078125 35.4375 \nQ 35.15625 39.890625 26.703125 39.890625 \nQ 22.75 39.890625 18.8125 39.015625 \nQ 14.890625 38.140625 10.796875 36.28125 \nz\n\" id=\"DejaVuSans-53\"/>\n      </defs>\n      <g transform=\"translate(66.455179 242.738437)scale(0.1 -0.1)\">\n       <use xlink:href=\"#DejaVuSans-53\"/>\n      </g>\n     </g>\n    </g>\n    <g id=\"xtick_3\">\n     <g id=\"line2d_3\">\n      <g>\n       <use style=\"stroke:#000000;stroke-width:0.8;\" x=\"108.465\" xlink:href=\"#mdd68ea2e3c\" y=\"228.14\"/>\n      </g>\n     </g>\n     <g id=\"text_3\">\n      <!-- 10 -->\n      <defs>\n       <path d=\"M 12.40625 8.296875 \nL 28.515625 8.296875 \nL 28.515625 63.921875 \nL 10.984375 60.40625 \nL 10.984375 69.390625 \nL 28.421875 72.90625 \nL 38.28125 72.90625 \nL 38.28125 8.296875 \nL 54.390625 8.296875 \nL 54.390625 0 \nL 12.40625 0 \nz\n\" id=\"DejaVuSans-49\"/>\n      </defs>\n      <g transform=\"translate(102.1025 242.738437)scale(0.1 -0.1)\">\n       <use xlink:href=\"#DejaVuSans-49\"/>\n       <use x=\"63.623047\" xlink:href=\"#DejaVuSans-48\"/>\n      </g>\n     </g>\n    </g>\n    <g id=\"xtick_4\">\n     <g id=\"line2d_4\">\n      <g>\n       <use style=\"stroke:#000000;stroke-width:0.8;\" x=\"147.293571\" xlink:href=\"#mdd68ea2e3c\" y=\"228.14\"/>\n      </g>\n     </g>\n     <g id=\"text_4\">\n      <!-- 15 -->\n      <g transform=\"translate(140.931071 242.738437)scale(0.1 -0.1)\">\n       <use xlink:href=\"#DejaVuSans-49\"/>\n       <use x=\"63.623047\" xlink:href=\"#DejaVuSans-53\"/>\n      </g>\n     </g>\n    </g>\n    <g id=\"xtick_5\">\n     <g id=\"line2d_5\">\n      <g>\n       <use style=\"stroke:#000000;stroke-width:0.8;\" x=\"186.122143\" xlink:href=\"#mdd68ea2e3c\" y=\"228.14\"/>\n      </g>\n     </g>\n     <g id=\"text_5\">\n      <!-- 20 -->\n      <defs>\n       <path d=\"M 19.1875 8.296875 \nL 53.609375 8.296875 \nL 53.609375 0 \nL 7.328125 0 \nL 7.328125 8.296875 \nQ 12.9375 14.109375 22.625 23.890625 \nQ 32.328125 33.6875 34.8125 36.53125 \nQ 39.546875 41.84375 41.421875 45.53125 \nQ 43.3125 49.21875 43.3125 52.78125 \nQ 43.3125 58.59375 39.234375 62.25 \nQ 35.15625 65.921875 28.609375 65.921875 \nQ 23.96875 65.921875 18.8125 64.3125 \nQ 13.671875 62.703125 7.8125 59.421875 \nL 7.8125 69.390625 \nQ 13.765625 71.78125 18.9375 73 \nQ 24.125 74.21875 28.421875 74.21875 \nQ 39.75 74.21875 46.484375 68.546875 \nQ 53.21875 62.890625 53.21875 53.421875 \nQ 53.21875 48.921875 51.53125 44.890625 \nQ 49.859375 40.875 45.40625 35.40625 \nQ 44.1875 33.984375 37.640625 27.21875 \nQ 31.109375 20.453125 19.1875 8.296875 \nz\n\" id=\"DejaVuSans-50\"/>\n      </defs>\n      <g transform=\"translate(179.759643 242.738437)scale(0.1 -0.1)\">\n       <use xlink:href=\"#DejaVuSans-50\"/>\n       <use x=\"63.623047\" xlink:href=\"#DejaVuSans-48\"/>\n      </g>\n     </g>\n    </g>\n    <g id=\"xtick_6\">\n     <g id=\"line2d_6\">\n      <g>\n       <use style=\"stroke:#000000;stroke-width:0.8;\" x=\"224.950714\" xlink:href=\"#mdd68ea2e3c\" y=\"228.14\"/>\n      </g>\n     </g>\n     <g id=\"text_6\">\n      <!-- 25 -->\n      <g transform=\"translate(218.588214 242.738437)scale(0.1 -0.1)\">\n       <use xlink:href=\"#DejaVuSans-50\"/>\n       <use x=\"63.623047\" xlink:href=\"#DejaVuSans-53\"/>\n      </g>\n     </g>\n    </g>\n   </g>\n   <g id=\"matplotlib.axis_2\">\n    <g id=\"ytick_1\">\n     <g id=\"line2d_7\">\n      <defs>\n       <path d=\"M 0 0 \nL -3.5 0 \n\" id=\"mdce0fe54a4\" style=\"stroke:#000000;stroke-width:0.8;\"/>\n      </defs>\n      <g>\n       <use style=\"stroke:#000000;stroke-width:0.8;\" x=\"26.925\" xlink:href=\"#mdce0fe54a4\" y=\"14.582857\"/>\n      </g>\n     </g>\n     <g id=\"text_7\">\n      <!-- 0 -->\n      <g transform=\"translate(13.5625 18.382076)scale(0.1 -0.1)\">\n       <use xlink:href=\"#DejaVuSans-48\"/>\n      </g>\n     </g>\n    </g>\n    <g id=\"ytick_2\">\n     <g id=\"line2d_8\">\n      <g>\n       <use style=\"stroke:#000000;stroke-width:0.8;\" x=\"26.925\" xlink:href=\"#mdce0fe54a4\" y=\"53.411429\"/>\n      </g>\n     </g>\n     <g id=\"text_8\">\n      <!-- 5 -->\n      <g transform=\"translate(13.5625 57.210647)scale(0.1 -0.1)\">\n       <use xlink:href=\"#DejaVuSans-53\"/>\n      </g>\n     </g>\n    </g>\n    <g id=\"ytick_3\">\n     <g id=\"line2d_9\">\n      <g>\n       <use style=\"stroke:#000000;stroke-width:0.8;\" x=\"26.925\" xlink:href=\"#mdce0fe54a4\" y=\"92.24\"/>\n      </g>\n     </g>\n     <g id=\"text_9\">\n      <!-- 10 -->\n      <g transform=\"translate(7.2 96.039219)scale(0.1 -0.1)\">\n       <use xlink:href=\"#DejaVuSans-49\"/>\n       <use x=\"63.623047\" xlink:href=\"#DejaVuSans-48\"/>\n      </g>\n     </g>\n    </g>\n    <g id=\"ytick_4\">\n     <g id=\"line2d_10\">\n      <g>\n       <use style=\"stroke:#000000;stroke-width:0.8;\" x=\"26.925\" xlink:href=\"#mdce0fe54a4\" y=\"131.068571\"/>\n      </g>\n     </g>\n     <g id=\"text_10\">\n      <!-- 15 -->\n      <g transform=\"translate(7.2 134.86779)scale(0.1 -0.1)\">\n       <use xlink:href=\"#DejaVuSans-49\"/>\n       <use x=\"63.623047\" xlink:href=\"#DejaVuSans-53\"/>\n      </g>\n     </g>\n    </g>\n    <g id=\"ytick_5\">\n     <g id=\"line2d_11\">\n      <g>\n       <use style=\"stroke:#000000;stroke-width:0.8;\" x=\"26.925\" xlink:href=\"#mdce0fe54a4\" y=\"169.897143\"/>\n      </g>\n     </g>\n     <g id=\"text_11\">\n      <!-- 20 -->\n      <g transform=\"translate(7.2 173.696362)scale(0.1 -0.1)\">\n       <use xlink:href=\"#DejaVuSans-50\"/>\n       <use x=\"63.623047\" xlink:href=\"#DejaVuSans-48\"/>\n      </g>\n     </g>\n    </g>\n    <g id=\"ytick_6\">\n     <g id=\"line2d_12\">\n      <g>\n       <use style=\"stroke:#000000;stroke-width:0.8;\" x=\"26.925\" xlink:href=\"#mdce0fe54a4\" y=\"208.725714\"/>\n      </g>\n     </g>\n     <g id=\"text_12\">\n      <!-- 25 -->\n      <g transform=\"translate(7.2 212.524933)scale(0.1 -0.1)\">\n       <use xlink:href=\"#DejaVuSans-50\"/>\n       <use x=\"63.623047\" xlink:href=\"#DejaVuSans-53\"/>\n      </g>\n     </g>\n    </g>\n   </g>\n   <g id=\"patch_3\">\n    <path d=\"M 26.925 228.14 \nL 26.925 10.7 \n\" style=\"fill:none;stroke:#000000;stroke-linecap:square;stroke-linejoin:miter;stroke-width:0.8;\"/>\n   </g>\n   <g id=\"patch_4\">\n    <path d=\"M 244.365 228.14 \nL 244.365 10.7 \n\" style=\"fill:none;stroke:#000000;stroke-linecap:square;stroke-linejoin:miter;stroke-width:0.8;\"/>\n   </g>\n   <g id=\"patch_5\">\n    <path d=\"M 26.925 228.14 \nL 244.365 228.14 \n\" style=\"fill:none;stroke:#000000;stroke-linecap:square;stroke-linejoin:miter;stroke-width:0.8;\"/>\n   </g>\n   <g id=\"patch_6\">\n    <path d=\"M 26.925 10.7 \nL 244.365 10.7 \n\" style=\"fill:none;stroke:#000000;stroke-linecap:square;stroke-linejoin:miter;stroke-width:0.8;\"/>\n   </g>\n  </g>\n </g>\n <defs>\n  <clipPath id=\"p17a28a6aea\">\n   <rect height=\"217.44\" width=\"217.44\" x=\"26.925\" y=\"10.7\"/>\n  </clipPath>\n </defs>\n</svg>\n",
      "image/png": "[encoded data removed]"
     },
     "metadata": {
      "needs_background": "light"
     }
    }
   ],
   "metadata": {}
  },
  {
   "cell_type": "code",
   "execution_count": 31,
   "source": [
    "def exponential_kernel(x1, x2, p):\n",
    "    return np.exp(-p * sum((x1 - x2)**2))\n"
   ],
   "outputs": [],
   "metadata": {}
  },
  {
   "cell_type": "code",
   "execution_count": 34,
   "source": [
    "A = np.array([1, 2])\n",
    "B = np.array([[3, 4], [5, 6]])"
   ],
   "outputs": [],
   "metadata": {}
  },
  {
   "cell_type": "code",
   "execution_count": 44,
   "source": [
    "np.sum((X[0] - X[0:])**2, axis = 1)"
   ],
   "outputs": [
    {
     "output_type": "execute_result",
     "data": {
      "text/plain": [
       "array([      0., 5698302., 7690356., ..., 6904090., 7254810., 8667960.])"
      ]
     },
     "metadata": {},
     "execution_count": 44
    }
   ],
   "metadata": {}
  },
  {
   "cell_type": "code",
   "execution_count": null,
   "source": [
    "adjacency_matrix = np.zeros((X.shape[0], X.shape[0]))\n",
    "\n",
    "for i in range(X.shape[0]):\n",
    "    adjacency_matrix[i] = np.exp(-1 * np.sum((X[i] - X[0:])**2, axis = 1))"
   ],
   "outputs": [],
   "metadata": {}
  }
 ],
 "metadata": {
  "orig_nbformat": 4,
  "language_info": {
   "name": "python",
   "version": "3.6.8",
   "mimetype": "text/x-python",
   "codemirror_mode": {
    "name": "ipython",
    "version": 3
   },
   "pygments_lexer": "ipython3",
   "nbconvert_exporter": "python",
   "file_extension": ".py"
  },
  "kernelspec": {
   "name": "python3",
   "display_name": "Python 3.6.8 64-bit ('base': conda)"
  },
  "interpreter": {
   "hash": "c9590d7032ea884dfefbafe07253313ce5154fbe651f8bce5ea637ccc15b006b"
  }
 },
 "nbformat": 4,
 "nbformat_minor": 2
}