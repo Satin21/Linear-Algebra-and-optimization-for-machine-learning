{
 "cells": [
  {
   "cell_type": "code",
   "execution_count": 3,
   "source": [
    "import random\n",
    "import numpy as np"
   ],
   "outputs": [],
   "metadata": {}
  },
  {
   "cell_type": "code",
   "execution_count": 21,
   "source": [
    "from main import read_csv, mean_centered, split_data\n",
    "from sklearn.preprocessing import StandardScaler\n"
   ],
   "outputs": [],
   "metadata": {}
  },
  {
   "cell_type": "code",
   "execution_count": 20,
   "source": [
    "fname = '../heart.csv'\n",
    "\n",
    "X = read_csv(fname)\n",
    "\n",
    "# Split the data in to the samples and labels\n",
    "X = np.array(X)\n",
    "Y = X[:, 13]  # Labels\n",
    "X = X[:, :13]\n",
    "\n",
    "X = mean_centered(X)\n",
    "# Cxx = cov_mat(X)\n",
    "# print('Cxx.shape:', Cxx.shape)\n",
    "\n",
    "# Scale the input data/features\n",
    "sc = StandardScaler()\n",
    "X = sc.fit_transform(X)"
   ],
   "outputs": [],
   "metadata": {}
  },
  {
   "cell_type": "code",
   "execution_count": 48,
   "source": [
    "x_train, y_train, x_test , y_test = split_data(X, Y, 0.25)"
   ],
   "outputs": [],
   "metadata": {}
  },
  {
   "cell_type": "code",
   "execution_count": 62,
   "source": [
    "def sample_as_mini_batches(x_train: np.ndarray, batch_size:int):\n",
    "    random_samples = np.array(random.sample(set(range(len(x_train))), len(x_train)))\n",
    "    random_samples = np.array_split(random_samples, batch_size)\n",
    "\n",
    "    assert sum([len(batch) for batch in random_samples]) ==  len(x_train), \"some samples in the training set are not added\"\n",
    "    return [x_train[arr] for arr in random_samples]\n",
    "    "
   ],
   "outputs": [],
   "metadata": {}
  },
  {
   "cell_type": "code",
   "execution_count": 63,
   "source": [
    "batch_size = 20"
   ],
   "outputs": [],
   "metadata": {}
  },
  {
   "cell_type": "code",
   "execution_count": 64,
   "source": [
    "mini_batches = sample_as_mini_batches(x_train, batch_size)"
   ],
   "outputs": [],
   "metadata": {}
  },
  {
   "cell_type": "code",
   "execution_count": null,
   "source": [],
   "outputs": [],
   "metadata": {}
  }
 ],
 "metadata": {
  "orig_nbformat": 4,
  "language_info": {
   "name": "python",
   "version": "3.6.8",
   "mimetype": "text/x-python",
   "codemirror_mode": {
    "name": "ipython",
    "version": 3
   },
   "pygments_lexer": "ipython3",
   "nbconvert_exporter": "python",
   "file_extension": ".py"
  },
  "kernelspec": {
   "name": "python3",
   "display_name": "Python 3.6.8 64-bit ('base': conda)"
  },
  "interpreter": {
   "hash": "c9590d7032ea884dfefbafe07253313ce5154fbe651f8bce5ea637ccc15b006b"
  }
 },
 "nbformat": 4,
 "nbformat_minor": 2
}